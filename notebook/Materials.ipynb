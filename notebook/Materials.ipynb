{
 "cells": [
  {
   "cell_type": "markdown",
   "source": [
    "# Assigning materials and colors per triangle of a mesh\n",
    "\n",
    "Alejandro Morales\n",
    "\n",
    "Centre for Crop Systems Analysis - Wageningen University\n",
    "\n",
    "In this example we show how to assign different materials and colors to each triangle of a\n",
    "mesh. This assignment is performed when creating the mesh and storing it in the turtle. The\n",
    "use is responsible for storing the colors and materials in an object they can access later\n",
    "(typically in a node inside the graph).\n",
    "\n",
    "As usual we start with importing the necessary libraries"
   ],
   "metadata": {}
  },
  {
   "outputs": [],
   "cell_type": "code",
   "source": [
    "using VirtualPlantLab\n",
    "import ColorTypes: RGB\n",
    "using Plots\n",
    "import GLMakie"
   ],
   "metadata": {},
   "execution_count": null
  },
  {
   "cell_type": "markdown",
   "source": [
    "We will create a simple scene with a tiled ellipse. We control the number of triangles of\n",
    "each tile with the argument `n`, which is then used to generate random materials and colors\n",
    "for each triangle (of course in a real application these would not be random but depend on\n",
    "some properties or states of the system). Note that we also keep track of the areas of each\n",
    "triangle as we will use them later to calculate the irradiance on each triangle.\n",
    "\n",
    "The colors are zeroed out as later we will scale them by the irradiance absorbed by each\n",
    "triangle. The materials are randomly generated with different reflectance and transmittance\n",
    "per triangle."
   ],
   "metadata": {}
  },
  {
   "outputs": [],
   "cell_type": "code",
   "source": [
    "mutable struct Tile <: Node\n",
    "    length::Float64\n",
    "    width::Float64\n",
    "    n::Int64\n",
    "    materials::Vector{Lambertian{1}}\n",
    "    colors::Vector{RGB}\n",
    "    areas::Vector{Float64}\n",
    "end\n",
    "function Tile(length, width, n)\n",
    "    Tile(length, width, n, [Lambertian(τ = rand()*0.3, ρ = rand()*0.3) for _ in 1:n],\n",
    "         zeros(RGB, n), zeros(n))\n",
    "end"
   ],
   "metadata": {},
   "execution_count": null
  },
  {
   "cell_type": "markdown",
   "source": [
    "In the feed method we first create the mesh with the right dimensions and number of triangles.\n",
    "We then extract the areas of each triangle in the order of storage and only then assign them\n",
    "to the turtle alongside the colors and materials using `Mesh!`. Note that if we had directly\n",
    "used `Ellipse!` to create and add the mesh to the turtle we would not have been able to\n",
    "access the areas of each triangle (technically we could calculate them by reconstructing the\n",
    "triangles from the vertices stored in the turtle but this approach is more cumbersome)."
   ],
   "metadata": {}
  },
  {
   "outputs": [],
   "cell_type": "code",
   "source": [
    "function VirtualPlantLab.feed!(turtle::Turtle, t::Tile, data)\n",
    "    e = Ellipse(length = t.length, width = t.width, n = t.n)\n",
    "    t.areas = areas(e) ## Note that we use \"areas\" and not \"area\"\n",
    "    Mesh!(turtle, e, materials = t.materials, colors = t.colors)\n",
    "end"
   ],
   "metadata": {},
   "execution_count": null
  },
  {
   "cell_type": "markdown",
   "source": [
    "We can now create a simple scene with a tiled floor and a directional light source to test\n",
    "the calculations of absorbed irradiance."
   ],
   "metadata": {}
  },
  {
   "outputs": [],
   "cell_type": "code",
   "source": [
    "g = Graph(axiom = RA(90.0) +  Tile(1.0, 1.0, 40));\n",
    "sc = Scene(g);\n",
    "source = DirectionalSource(sc, θ = π/4, Φ = π/2, radiosity = 1.0, nrays = 5_000_000);"
   ],
   "metadata": {},
   "execution_count": null
  },
  {
   "cell_type": "markdown",
   "source": [
    "Let's run the raytracer and extract the power per triangle and calculate the irradiance."
   ],
   "metadata": {}
  },
  {
   "outputs": [],
   "cell_type": "code",
   "source": [
    "rt = RayTracer(sc, source, settings = RTSettings(parallel = true));\n",
    "trace!(rt)\n",
    "tile = apply(g, Query(Tile))[1];\n",
    "pow = [power(m)[1] for m in tile.materials]\n",
    "irradiance = pow./tile.areas"
   ],
   "metadata": {},
   "execution_count": null
  },
  {
   "cell_type": "markdown",
   "source": [
    "Let's compute the absorptance of each pizza slice. The amount of irradiance absorbed per tile\n",
    "should scale with the absorptance of the tile."
   ],
   "metadata": {}
  },
  {
   "outputs": [],
   "cell_type": "code",
   "source": [
    "τ = [m.τ[1] for m in tile.materials]\n",
    "ρ = [m.ρ[1] for m in tile.materials]\n",
    "α = 1.0 .- τ .- ρ\n",
    "pl = scatter(α, irradiance, ylabel = \"Irradiance\", xlabel = \"Absorptance\", legend = false)\n",
    "Plots.abline!(pl, 1.0, 0.0)"
   ],
   "metadata": {},
   "execution_count": null
  },
  {
   "cell_type": "markdown",
   "source": [
    "Finally, let's scale the colors of each triangle by the irradiance absorbed by each triangle\n",
    "assuming different shades of green and let's visualize them by turning of the shader in the\n",
    "renderer to get the exact colors we specify."
   ],
   "metadata": {}
  },
  {
   "outputs": [],
   "cell_type": "code",
   "source": [
    "tile.colors = RGB.(0.0, α, 0.0)\n",
    "sc = Scene(g)\n",
    "render(sc, wireframe = true, shading = GLMakie.NoShading)"
   ],
   "metadata": {},
   "execution_count": null
  },
  {
   "cell_type": "markdown",
   "source": [
    "---\n",
    "\n",
    "*This notebook was generated using [Literate.jl](https://github.com/fredrikekre/Literate.jl).*"
   ],
   "metadata": {}
  }
 ],
 "nbformat_minor": 3,
 "metadata": {
  "language_info": {
   "file_extension": ".jl",
   "mimetype": "application/julia",
   "name": "julia",
   "version": "1.10.4"
  },
  "kernelspec": {
   "name": "julia-1.10",
   "display_name": "Julia 1.10.4",
   "language": "julia"
  }
 },
 "nbformat": 4
}
