{
 "cells": [
  {
   "cell_type": "markdown",
   "source": [
    "# Traversing a graph\n",
    "\n",
    "In this guide we will see how to address one possible situation where there is need to\n",
    "traverse a graph to accumulate information in a relational manner. The key idea in this\n",
    "example is that a given node of a graph requires accumulated information from all the\n",
    "descendent nodes of a particular type. This pattern shows up in many different contexts\n",
    "such as (i) calculating the probability of bud break as affected by apical dominance (without\n",
    "explict simulation of hormone transport) or (ii) the pipe model (where the cross-sectional\n",
    "area of a stem at a given point is proportional to the leaf area above that point).\n",
    "\n",
    "This problem can be solved in a number of ways, which differ in terms of complexity and\n",
    "performance:\n",
    "\n",
    "1. Relational query: For every target node, query the graph for all the descendent nodes of\n",
    "a particular type and accumulate the information. This does not require any change to the\n",
    "rewriting rules and allows for complex relationships (see tutorials for examples).\n",
    "\n",
    "2. Annotated topology: Assign each target node and descendents with a level tag such that\n",
    "we can reconstruct later all the descendents of a particular node (i.e., all nodes of the\n",
    "same level or higher). This requires a change to the rewriting rules to add the level tag\n",
    "but the traversal is simple as we simply extract all the relevant nodes from the graph and\n",
    "perform the logic outside of the graph by filtering for different tag levels.\n",
    "\n",
    "3. Ad-hoc traversal: Use the `traverse_dfs()` or `traverse_bfs()` functions to write an\n",
    "ad-hoc traversal algorithm. Since the accumulation must happen in reverse (from the leaf\n",
    "nodes towards the root node), the ad-hoc function needs to be written in a recursive manner,\n",
    "most likely keeping its own stack of nodes. This is the most complex solution but also\n",
    "(potentially) the most efficient one as no nodes need to be extracted and each graph is\n",
    "visited exactly once.\n",
    "\n",
    "To illustrate all these approaches, let's create a simple graph that represents the essence\n",
    "of the problem. We are going to assume to types of nodes (`A` and `B`), where the target\n",
    "nodes are of type `A` and the descendents of interest include both types. The information to\n",
    "be accumulated is a simple integer that we will call `state`. The result of accumulating the\n",
    "states will be stored in the `value`. We also add the `level` tag for second approach. The\n",
    "types are defined in a module as usual:"
   ],
   "metadata": {}
  },
  {
   "outputs": [],
   "cell_type": "code",
   "source": [
    "using VirtualPlantLab\n",
    "import GLMakie\n",
    "module TravTypes\n",
    "    import PlantGraphs: Node\n",
    "    export A, B\n",
    "    @kwdef mutable struct A <: Node\n",
    "        value::Float64 = 0.0\n",
    "        state::Float64 = 0.0\n",
    "        level::Int     = 0\n",
    "    end\n",
    "    @kwdef struct B <: Node\n",
    "        state::Float64 = 0.0\n",
    "        level::Int     = 0\n",
    "    end\n",
    "end\n",
    "\n",
    "using .TravTypes\n",
    "\n",
    "# Function that generates the arguments to create a node\n",
    "fill(level) = (level = level, state = rand())\n",
    "# Motif of the graph (`;fill(l)...` is equivalent to typing `level = l, state = rand()`)\n",
    "motif(l) = A(;fill(l)...) + (B(;fill(l)...), B(;fill(l)...) + (B(;fill(l)...), B(;fill(l)...)))\n",
    "# Create the graph by repeating the motif 10 times\n",
    "axiom = motif(1)\n",
    "for i in 2:10\n",
    "    axiom += motif(i)\n",
    "end"
   ],
   "metadata": {},
   "execution_count": null
  },
  {
   "cell_type": "markdown",
   "source": [
    "We specialize `darw()` to include the level tag and the state of each node when we draw the\n",
    "graph. Remember that this can be achieved by defining methods for `node_label()` for each\n",
    "type of node."
   ],
   "metadata": {}
  },
  {
   "outputs": [],
   "cell_type": "code",
   "source": [
    "PlantGraphs.node_label(node::A, id) = \"A: $(node.level) - $(round(node.value, digits = 2))\"\n",
    "PlantGraphs.node_label(node::B, id) = \"B: $(node.level)\"\n",
    "g = Graph(axiom = axiom)\n",
    "draw(g)"
   ],
   "metadata": {},
   "execution_count": null
  },
  {
   "cell_type": "markdown",
   "source": [
    "## Relational queries\n",
    "\n",
    "The first approach is to use relational queries to accumulate the information as a\n",
    "side-effect. Note that we do not actually return the nodes as that is not required, we\n",
    "simple use the query mechanism to access the context of each node so that we can traverse\n",
    "the graph in a relational manner.\n",
    "\n",
    "We could also implement this logic inside a rule if the computation performed for each node\n",
    "would affect whether a particular rule needs to be triggered or not (for example, if we\n",
    "were calculating the probability of a lateral bud breaking).\n",
    "\n",
    "First, we construct the function that will be used to accumulate the information and modify\n",
    "the node in-place as a side-effect. We then return the nodes."
   ],
   "metadata": {}
  },
  {
   "outputs": [],
   "cell_type": "code",
   "source": [
    "function accumulate(node)\n",
    "    # Extract the first child and put it into a stack\n",
    "    stack = [children(node)...]\n",
    "    state = 0.0\n",
    "    while !isempty(stack)\n",
    "        # Pop the last child from the stack\n",
    "        child = pop!(stack)\n",
    "        # Accumulate the state\n",
    "        state += data(child).state\n",
    "        # Add the children of the child to the stack\n",
    "        if has_children(child)\n",
    "            for child in children(child)\n",
    "                push!(stack, child)\n",
    "            end\n",
    "        end\n",
    "    end\n",
    "    data(node).value = state\n",
    "    return true\n",
    "end\n",
    "\n",
    "# We not construct the query object and apply it\n",
    "q = Query(A, condition = accumulate)\n",
    "apply(g, q)\n",
    "draw(g)"
   ],
   "metadata": {},
   "execution_count": null
  },
  {
   "cell_type": "markdown",
   "source": [
    "## Annotated topology\n",
    "\n",
    "In the second approach, we assign a level tag to each node so that we can reconstruct the\n",
    "descendents of a particular node. We already incorporated this when constructing the axiom,\n",
    "so here we simply extract the nodes and perform the accumulation based on on those level\n",
    "tags. The queries are very simply, as we just extract all nodes of a given type."
   ],
   "metadata": {}
  },
  {
   "outputs": [],
   "cell_type": "code",
   "source": [
    "qA = Query(A)\n",
    "qB = Query(B)\n",
    "nodesA = apply(g, qA)\n",
    "nodesB = apply(g, qB)"
   ],
   "metadata": {},
   "execution_count": null
  },
  {
   "cell_type": "markdown",
   "source": [
    "Now we construct a table that will store the accumulated information for each level as a\n",
    "dictionary. We know that the total number of levels is equal to the number of `A` nodes."
   ],
   "metadata": {}
  },
  {
   "outputs": [],
   "cell_type": "code",
   "source": [
    "accum = zeros(length(nodesA))"
   ],
   "metadata": {},
   "execution_count": null
  },
  {
   "cell_type": "markdown",
   "source": [
    "The logic now is to add the `state` of each `A` or `B` node to all the levels that are equal\n",
    "or lower (we treat the positions in the array `accum` as the levels). We can then assign\n",
    "these values to the `value` field of the `A` nodes. Note how for `A` nodes we need to avoid\n",
    "adding the `state` of the node that defines the level (hence the `1:level-1`) since only\n",
    "descendents should be used."
   ],
   "metadata": {}
  },
  {
   "outputs": [],
   "cell_type": "code",
   "source": [
    "for node in nodesB\n",
    "    level = node.level\n",
    "    accum[1:level] .+= node.state ## Add node.state to elements 1:level\n",
    "end\n",
    "for node in nodesA\n",
    "    level = node.level\n",
    "    level > 1 && (accum[1:level-1] .+= node.state)\n",
    "end\n",
    "for node in nodesA\n",
    "    node.value = accum[node.level]\n",
    "end\n",
    "draw(g)"
   ],
   "metadata": {},
   "execution_count": null
  },
  {
   "cell_type": "markdown",
   "source": [
    "## Ad-hoc traversal\n",
    "\n",
    "*Work in progress*"
   ],
   "metadata": {}
  },
  {
   "cell_type": "markdown",
   "source": [
    "---\n",
    "\n",
    "*This notebook was generated using [Literate.jl](https://github.com/fredrikekre/Literate.jl).*"
   ],
   "metadata": {}
  }
 ],
 "nbformat_minor": 3,
 "metadata": {
  "language_info": {
   "file_extension": ".jl",
   "mimetype": "application/julia",
   "name": "julia",
   "version": "1.10.4"
  },
  "kernelspec": {
   "name": "julia-1.10",
   "display_name": "Julia 1.10.4",
   "language": "julia"
  }
 },
 "nbformat": 4
}
