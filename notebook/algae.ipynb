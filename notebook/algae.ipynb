{
 "cells": [
  {
   "cell_type": "markdown",
   "source": [
    "# Algae growth\n",
    "\n",
    "Alejandro Morales & Ana Ernst\n",
    "\n",
    "Centre for Crop Systems Analysis - Wageningen University\n",
    "\n",
    "> ### TL;DR\n",
    "> - Create ['Graph'](https://virtualplantlab.com/dev/manual/Graphs/#Graph)\n",
    "> - Update 'Graph' with rewriting [rules](https://virtualplantlab.com/dev/manual/Graphs/#Rules)\n",
    "> - [Visualization](https://virtualplantlab.com/dev/manual/Visualization/) of 'Graph' with draw()\n",
    ">\n",
    "\n",
    "In this first example, we learn how to create a `Graph` and update it\n",
    "dynamically with rewriting rules.\n",
    "\n",
    "The model described here is based on the non-branching model of [algae\n",
    "growth](https://en.wikipedia.org/wiki/L-system#Example_1:_Algae) proposed by\n",
    "Lindermayer as one of the first L-systems.\n",
    "\n",
    "First, we need to load the VPL metapackage, which will automatically load all\n",
    "the packages in the VPL ecosystem."
   ],
   "metadata": {}
  },
  {
   "outputs": [],
   "cell_type": "code",
   "source": [
    "using VirtualPlantLab"
   ],
   "metadata": {},
   "execution_count": null
  },
  {
   "cell_type": "markdown",
   "source": [
    "The rewriting rules of the L-system are as follows:\n",
    "\n",
    "**axiom**:   A\n",
    "\n",
    "**rule 1**:  A $\\rightarrow$ AB\n",
    "\n",
    "**rule 2**:  B $\\rightarrow$ A\n",
    "\n",
    "In VPL, this L-system would be implemented as a graph where the nodes can be of\n",
    "type `A` or `B` and inherit from the abstract type `Node`. It is advised to\n",
    "include type definitions in a module to avoid having to restart the Julia\n",
    "session whenever we want to redefine them. Because each module is an independent\n",
    "namespace, we need to import `Node` from the VPL package inside the module:"
   ],
   "metadata": {}
  },
  {
   "outputs": [],
   "cell_type": "code",
   "source": [
    "module algae\n",
    "    import VirtualPlantLab: Node\n",
    "    struct A <: Node end\n",
    "    struct B <: Node end\n",
    "end\n",
    "import .algae"
   ],
   "metadata": {},
   "execution_count": null
  },
  {
   "cell_type": "markdown",
   "source": [
    "Note that in this very example we do not need to store any data or state inside\n",
    "the nodes, so types `A` and `B` do not require fields.\n",
    "\n",
    "The axiom is simply defined as an instance of type of `A`:"
   ],
   "metadata": {}
  },
  {
   "outputs": [],
   "cell_type": "code",
   "source": [
    "axiom = algae.A()"
   ],
   "metadata": {},
   "execution_count": null
  },
  {
   "cell_type": "markdown",
   "source": [
    "The rewriting rules are implemented in VPL as objects of type `Rule`. In VPL, a\n",
    "rewriting rule substitutes a node in a graph with a new node or subgraph and is\n",
    "therefore composed of two parts:\n",
    "\n",
    "1. A condition that is tested against each node in a graph to choose which nodes\n",
    "   to rewrite.\n",
    "2. A subgraph that will replace each node selected by the condition above.\n",
    "\n",
    "In VPL, the condition is split into two components:\n",
    "\n",
    "1. The type of node to be selected (in this example that would be `A` or `B`).\n",
    "2. A function that is applied to each node in the graph (of the specified type)\n",
    "   to indicate whether the node should be selected or not. This function is\n",
    "   optional (the default is to select every node of the specified type).\n",
    "\n",
    "The replacement subgraph is specified by a function that takes as input the node\n",
    "selected and returns a subgraph defined as a combination of node objects.\n",
    "Subgraphs (which can also be used as axioms) are created by linearly combining\n",
    "objects that inherit from `Node`. The operation `+` implies a linear\n",
    "relationship between two nodes and `[]` indicates branching.\n",
    "\n",
    "The implementation of the two rules of algae growth model in VPL is as follows:"
   ],
   "metadata": {}
  },
  {
   "outputs": [],
   "cell_type": "code",
   "source": [
    "rule1 = Rule(algae.A, rhs = x -> algae.A() + algae.B())\n",
    "rule2 = Rule(algae.B, rhs = x -> algae.A())"
   ],
   "metadata": {},
   "execution_count": null
  },
  {
   "cell_type": "markdown",
   "source": [
    "Note that in each case, the argument `rhs` is being assigned an anonymous (aka\n",
    "*lambda*) function. This is a function without a name that is defined directly\n",
    "in the assignment to the argument. That is, the Julia expression `x -> A() + B()`\n",
    "is equivalent to the following function definition:"
   ],
   "metadata": {}
  },
  {
   "outputs": [],
   "cell_type": "code",
   "source": [
    "function rule_1(x)\n",
    "    algae.A() + algae.B()\n",
    "end"
   ],
   "metadata": {},
   "execution_count": null
  },
  {
   "cell_type": "markdown",
   "source": [
    "For simple rules (especially if the right-hand side is just a line of code) it\n",
    "is easier to just define the right-hand side of the rule with an anonymous\n",
    "function rather than creating a standalone function with a meaningful name.\n",
    "However, standalone functions are easier to debug as you can call them directly\n",
    "from the REPL.\n",
    "\n",
    "With the axiom and rules we can now create a `Graph` object that represents the\n",
    "algae organism. The first argument is the axiom and the second is a tuple with\n",
    "all the rewriting rules:"
   ],
   "metadata": {}
  },
  {
   "outputs": [],
   "cell_type": "code",
   "source": [
    "organism = Graph(axiom = axiom, rules = (rule1, rule2))"
   ],
   "metadata": {},
   "execution_count": null
  },
  {
   "cell_type": "markdown",
   "source": [
    "If we apply the rewriting rules iteratively, the graph will grow, in this case\n",
    "representing the growth of the algae organism. The rewriting rules are applied\n",
    "on the graph with the function `rewrite!()`:"
   ],
   "metadata": {}
  },
  {
   "outputs": [],
   "cell_type": "code",
   "source": [
    "rewrite!(organism)"
   ],
   "metadata": {},
   "execution_count": null
  },
  {
   "cell_type": "markdown",
   "source": [
    "Since there was only one node of type `A`, the only rule that was applied was\n",
    "`rule1`, so the graph should now have two nodes of types `A` and `B`,\n",
    "respectively. We can confirm this by drawing the graph. We do this with the\n",
    "function `draw()` which will always generate the same representation of the\n",
    "graph, but different options are available depending on the context where the\n",
    "code is executed. By default, `draw()` will create a new window where an\n",
    "interactive version of the graph will be drawn and one can zoom and pan with the\n",
    "mouse (in this online document a static version is shown, see\n",
    "[Backends](../../manual/Visualization.md) for details):"
   ],
   "metadata": {}
  },
  {
   "outputs": [],
   "cell_type": "code",
   "source": [
    "import GLMakie\n",
    "draw(organism)"
   ],
   "metadata": {},
   "execution_count": null
  },
  {
   "cell_type": "markdown",
   "source": [
    "Notice that each node in the network representation is labelled with the type of\n",
    "node (`A` or `B` in this case) and a number in parentheses. This number is a\n",
    "unique identifier associated to each node, and it is useful for debugging\n",
    "purposes (this will be explained in more advanced examples).\n",
    "\n",
    "Applying multiple iterations of rewriting can be achieved with a simple loop:"
   ],
   "metadata": {}
  },
  {
   "outputs": [],
   "cell_type": "code",
   "source": [
    "for i in 1:4\n",
    "    rewrite!(organism)\n",
    "end"
   ],
   "metadata": {},
   "execution_count": null
  },
  {
   "cell_type": "markdown",
   "source": [
    "And we can verify that the graph grew as expected:"
   ],
   "metadata": {}
  },
  {
   "outputs": [],
   "cell_type": "code",
   "source": [
    "draw(organism)"
   ],
   "metadata": {},
   "execution_count": null
  },
  {
   "cell_type": "markdown",
   "source": [
    "The network is rather boring as the system is growing linearly (no branching)\n",
    "but it already illustrates how graphs can grow rapidly in just a few iterations.\n",
    "Remember that the interactive visualization allows adjusting the zoom, which is\n",
    "handy when graphs become large."
   ],
   "metadata": {}
  },
  {
   "cell_type": "markdown",
   "source": [
    "---\n",
    "\n",
    "*This notebook was generated using [Literate.jl](https://github.com/fredrikekre/Literate.jl).*"
   ],
   "metadata": {}
  }
 ],
 "nbformat_minor": 3,
 "metadata": {
  "language_info": {
   "file_extension": ".jl",
   "mimetype": "application/julia",
   "name": "julia",
   "version": "1.10.4"
  },
  "kernelspec": {
   "name": "julia-1.10",
   "display_name": "Julia 1.10.4",
   "language": "julia"
  }
 },
 "nbformat": 4
}
