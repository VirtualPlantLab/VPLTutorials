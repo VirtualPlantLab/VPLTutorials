{
 "cells": [
  {
   "cell_type": "markdown",
   "source": [
    "# Context sensitive rules\n",
    "\n",
    "Alejandro Morales & Ana Ernst\n",
    "\n",
    "Centre for Crop Systems Analysis - Wageningen University\n",
    "\n",
    "> ## TL;DR\n",
    "> - Relational rules based on properties of neighbouring nodes\n",
    "> - Capturing the context\n",
    "> - Queries can be used to retrieve nodes matching any relational rule or context\n",
    ">\n",
    "\n",
    "This examples goes back to a very simple situation: a linear sequence of 3\n",
    "cells. The point of this example is to introduce relational growth rules and\n",
    "context capturing.\n",
    "\n",
    "A relational rules matches nodes based on properties of neighbouring nodes in\n",
    "the graph. This requires traversing the graph, which can be done with the\n",
    "methods `parent` and `children` on the `Context` object of the current node,\n",
    "which return a list of `Context` objects for the parent or children nodes.\n",
    "\n",
    "In some cases, it is not only sufficient to query the neighbours of a node but\n",
    "also to use properties of those neighbours in the right hand side component of\n",
    "the rule. This is know as \"capturing the context\" of the node being updated.\n",
    "This can be done by returning the additional nodes from the `lhs` component (in\n",
    "addition to `true` or `false`) and by accepting these additional nodes in the\n",
    "`rhs` component. In addition, we tell VPL that this rule is capturing the\n",
    "context with `captures = true`.\n",
    "\n",
    "In the example below, each `Cell` keeps track of a `state` variable (which is\n",
    "either 0 or 1). Only the first cell has a state of 1 at the beginning. In the\n",
    "growth rule, we check the father of each `Cell`. When a `Cell` does not have a\n",
    "parent, the rule does not match, otherwise, we pass capture the parent node. In\n",
    "the right hand side, we replace the cell with a new cell with the state of the\n",
    "parent node that was captured. Note that that now, the rhs component gets a new\n",
    "argument, which corresponds to the context of the father node captured in the\n",
    "lhs."
   ],
   "metadata": {}
  },
  {
   "outputs": [],
   "cell_type": "code",
   "source": [
    "using VirtualPlantLab\n",
    "module types\n",
    "    using VirtualPlantLab\n",
    "    struct Cell <: Node\n",
    "        state::Int64\n",
    "    end\n",
    "end\n",
    "import .types: Cell\n",
    "function transfer(context)\n",
    "    if has_parent(context)\n",
    "        return (true, (parent(context), ))\n",
    "    else\n",
    "        return (false, ())\n",
    "    end\n",
    "end\n",
    "rule = Rule(Cell, lhs = transfer, rhs = (context, father) -> Cell(data(father).state), captures = true)\n",
    "axiom = Cell(1) + Cell(0) + Cell(0)\n",
    "pop = Graph(axiom = axiom, rules = rule)"
   ],
   "metadata": {},
   "execution_count": null
  },
  {
   "cell_type": "markdown",
   "source": [
    "In the original state defined by the axiom, only the first node contains a state\n",
    "of 1. We can retrieve the state of each node with a query. A `Query` object is a\n",
    "like a `Rule` but without a right-hand side (i.e., its purpose is to return the\n",
    "nodes that match a particular condition). In this case, we just want to return\n",
    "all the `Cell` nodes. A `Query` object is created by passing the type of the\n",
    "node to be queried as an argument to the `Query` function. Then, to actually\n",
    "execute the query we need to use the `apply` function on the graph."
   ],
   "metadata": {}
  },
  {
   "outputs": [],
   "cell_type": "code",
   "source": [
    "getCell = Query(Cell)\n",
    "apply(pop, getCell)"
   ],
   "metadata": {},
   "execution_count": null
  },
  {
   "cell_type": "markdown",
   "source": [
    "If we rewrite the graph one we will see that a second cell now has a state of 1."
   ],
   "metadata": {}
  },
  {
   "outputs": [],
   "cell_type": "code",
   "source": [
    "rewrite!(pop)\n",
    "apply(pop, getCell)"
   ],
   "metadata": {},
   "execution_count": null
  },
  {
   "cell_type": "markdown",
   "source": [
    "And a second iteration results in all cells have a state of 1"
   ],
   "metadata": {}
  },
  {
   "outputs": [],
   "cell_type": "code",
   "source": [
    "rewrite!(pop)\n",
    "apply(pop, getCell)"
   ],
   "metadata": {},
   "execution_count": null
  },
  {
   "cell_type": "markdown",
   "source": [
    "Note that queries may not return nodes in the same order as they were created\n",
    "because of how they are internally stored (and because queries are meant to\n",
    "return collection of nodes rather than reconstruct the topology of a graph). If\n",
    "we need to process nodes in a particular order, then it is best to use a\n",
    "traversal algorithm on the graph that follows a particular order (for example\n",
    "depth-first traversal with `traverse_dfs()`). This algorithm requires a function\n",
    "that applies to each node in the graph. In this simple example we can just store\n",
    "the `state` of each node in a vector (unlike Rules and Queries, this function\n",
    "takes the actual node as argument rather than a `Context` object, see the\n",
    "documentation for more details):"
   ],
   "metadata": {}
  },
  {
   "outputs": [],
   "cell_type": "code",
   "source": [
    "pop  = Graph(axiom = axiom, rules = rule)\n",
    "states = Int64[]\n",
    "traverse_dfs(pop, fun = node -> push!(states, node.state))\n",
    "states"
   ],
   "metadata": {},
   "execution_count": null
  },
  {
   "cell_type": "markdown",
   "source": [
    "Now the states of the nodes are in the same order as they were created:"
   ],
   "metadata": {}
  },
  {
   "outputs": [],
   "cell_type": "code",
   "source": [
    "rewrite!(pop)\n",
    "states = Int64[]\n",
    "traverse_dfs(pop, fun = node -> push!(states, node.state))\n",
    "states"
   ],
   "metadata": {},
   "execution_count": null
  },
  {
   "cell_type": "markdown",
   "source": [
    "---\n",
    "\n",
    "*This notebook was generated using [Literate.jl](https://github.com/fredrikekre/Literate.jl).*"
   ],
   "metadata": {}
  }
 ],
 "nbformat_minor": 3,
 "metadata": {
  "language_info": {
   "file_extension": ".jl",
   "mimetype": "application/julia",
   "name": "julia",
   "version": "1.10.4"
  },
  "kernelspec": {
   "name": "julia-1.10",
   "display_name": "Julia 1.10.4",
   "language": "julia"
  }
 },
 "nbformat": 4
}
