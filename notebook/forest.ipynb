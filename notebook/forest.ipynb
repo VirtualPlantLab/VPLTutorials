{
 "cells": [
  {
   "cell_type": "markdown",
   "source": [
    "# Forest\n",
    "\n",
    "Alejandro Morales & Ana Ernst\n",
    "\n",
    "Centre for Crop Systems Analysis - Wageningen University\n",
    "\n",
    "> ## TL;DR\n",
    "> Similar in functionality to [Tree](https://virtualplantlab.com/dev/tutorials/from_tree_forest/tree/) tutorial with separate graphs for each tree\n",
    "> - Modify tree parameters for each tree\n",
    "> - Multithreaded simulation (grow trees in parallel)\n",
    "> - Scene customization (e.g., add soil)\n",
    "> - Export Scenes\n",
    ">\n",
    "\n",
    "In this example we extend the tree example into a forest, where\n",
    "each tree is described by a separate graph object and parameters driving the\n",
    "growth of these trees vary across individuals following a predefined distribution.\n",
    "This tutorial requires using the Distributions.jl package:\n",
    "\n",
    "The data types, rendering methods and growth rules are the same as in the binary\n",
    "tree example:"
   ],
   "metadata": {}
  },
  {
   "outputs": [],
   "cell_type": "code",
   "source": [
    "using VirtualPlantLab\n",
    "using Distributions, Plots, ColorTypes\n",
    "import GLMakie\n",
    "# Data types\n",
    "module TreeTypes\n",
    "    import VirtualPlantLab\n",
    "    # Meristem\n",
    "    struct Meristem <: VirtualPlantLab.Node end\n",
    "    # Bud\n",
    "    struct Bud <: VirtualPlantLab.Node end\n",
    "    # Node\n",
    "    struct Node <: VirtualPlantLab.Node end\n",
    "    # BudNode\n",
    "    struct BudNode <: VirtualPlantLab.Node end\n",
    "    # Internode (needs to be mutable to allow for changes over time)\n",
    "    Base.@kwdef mutable struct Internode <: VirtualPlantLab.Node\n",
    "        length::Float64 = 0.10 # Internodes start at 10 cm\n",
    "    end\n",
    "    # Leaf\n",
    "    Base.@kwdef struct Leaf <: VirtualPlantLab.Node\n",
    "        length::Float64 = 0.20 # Leaves are 20 cm long\n",
    "        width::Float64  = 0.1 # Leaves are 10 cm wide\n",
    "    end\n",
    "    # Graph-level variables\n",
    "    Base.@kwdef struct treeparams\n",
    "        growth::Float64 = 0.1\n",
    "        budbreak::Float64 = 0.25\n",
    "        phyllotaxis::Float64 = 140.0\n",
    "        leaf_angle::Float64 = 30.0\n",
    "        branch_angle::Float64 = 45.0\n",
    "    end\n",
    "end\n",
    "\n",
    "import .TreeTypes\n",
    "\n",
    "# Create geometry + color for the internodes\n",
    "function VirtualPlantLab.feed!(turtle::Turtle, i::TreeTypes.Internode, data)\n",
    "    # Rotate turtle around the head to implement elliptical phyllotaxis\n",
    "    rh!(turtle, data.phyllotaxis)\n",
    "    HollowCylinder!(turtle, length = i.length, height = i.length/15, width = i.length/15,\n",
    "                move = true, colors = RGB(0.5,0.4,0.0))\n",
    "    return nothing\n",
    "end\n",
    "\n",
    "# Create geometry + color for the leaves\n",
    "function VirtualPlantLab.feed!(turtle::Turtle, l::TreeTypes.Leaf, data)\n",
    "    # Rotate turtle around the arm for insertion angle\n",
    "    ra!(turtle, -data.leaf_angle)\n",
    "    # Generate the leaf\n",
    "    Ellipse!(turtle, length = l.length, width = l.width, move = false,\n",
    "             colors = RGB(0.2,0.6,0.2))\n",
    "    # Rotate turtle back to original direction\n",
    "    ra!(turtle, data.leaf_angle)\n",
    "    return nothing\n",
    "end\n",
    "\n",
    "# Insertion angle for the bud nodes\n",
    "function VirtualPlantLab.feed!(turtle::Turtle, b::TreeTypes.BudNode, data)\n",
    "    # Rotate turtle around the arm for insertion angle\n",
    "    ra!(turtle, -data.branch_angle)\n",
    "end\n",
    "\n",
    "\n",
    "# Rules\n",
    "meristem_rule = Rule(TreeTypes.Meristem, rhs = mer -> TreeTypes.Node() +\n",
    "                                              (TreeTypes.Bud(), TreeTypes.Leaf()) +\n",
    "                                         TreeTypes.Internode() + TreeTypes.Meristem())\n",
    "\n",
    "function prob_break(bud)\n",
    "    # We move to parent node in the branch where the bud was created\n",
    "    node =  parent(bud)\n",
    "    # We count the number of internodes between node and the first Meristem\n",
    "    # moving down the graph\n",
    "    check, steps = has_descendant(node, condition = n -> data(n) isa TreeTypes.Meristem)\n",
    "    steps = Int(ceil(steps/2)) # Because it will count both the nodes and the internodes\n",
    "    # Compute probability of bud break and determine whether it happens\n",
    "    if check\n",
    "        prob =  min(1.0, steps*graph_data(bud).budbreak)\n",
    "        return rand() < prob\n",
    "    # If there is no meristem, an error happened since the model does not allow\n",
    "    # for this\n",
    "    else\n",
    "        error(\"No meristem found in branch\")\n",
    "    end\n",
    "end\n",
    "branch_rule = Rule(TreeTypes.Bud,\n",
    "            lhs = prob_break,\n",
    "            rhs = bud -> TreeTypes.BudNode() + TreeTypes.Internode() + TreeTypes.Meristem())"
   ],
   "metadata": {},
   "execution_count": null
  },
  {
   "cell_type": "markdown",
   "source": [
    "The main difference with respect to the tree is that several of the parameters\n",
    "will vary per TreeTypes. Also, the location of the tree and initial orientation of\n",
    "the turtle will also vary. To achieve this we need to:\n",
    "\n",
    "(i) Add two additional initial nodes that move the turtle to the starting position\n",
    "of each tree and rotates it.\n",
    "\n",
    "(ii) Wrap the axiom, rules and the creation of the graph into a function that\n",
    "takes the required parameters as inputs."
   ],
   "metadata": {}
  },
  {
   "outputs": [],
   "cell_type": "code",
   "source": [
    "function create_tree(origin, growth, budbreak, orientation)\n",
    "    axiom = T(origin) + RH(orientation) + TreeTypes.Internode() + TreeTypes.Meristem()\n",
    "    tree =  Graph(axiom = axiom, rules = (meristem_rule, branch_rule),\n",
    "                  data = TreeTypes.treeparams(growth = growth, budbreak = budbreak))\n",
    "    return tree\n",
    "end"
   ],
   "metadata": {},
   "execution_count": null
  },
  {
   "cell_type": "markdown",
   "source": [
    "The code for elongating the internodes to simulate growth remains the same as for\n",
    "the binary tree example"
   ],
   "metadata": {}
  },
  {
   "outputs": [],
   "cell_type": "code",
   "source": [
    "getInternode = Query(TreeTypes.Internode)\n",
    "\n",
    "function elongate!(tree, query)\n",
    "    for x in apply(tree, query)\n",
    "        x.length = x.length*(1.0 + data(tree).growth)\n",
    "    end\n",
    "end\n",
    "\n",
    "function growth!(tree, query)\n",
    "    elongate!(tree, query)\n",
    "    rewrite!(tree)\n",
    "end\n",
    "\n",
    "function simulate(tree, query, nsteps)\n",
    "    new_tree = deepcopy(tree)\n",
    "    for i in 1:nsteps\n",
    "        growth!(new_tree, query)\n",
    "    end\n",
    "    return new_tree\n",
    "end"
   ],
   "metadata": {},
   "execution_count": null
  },
  {
   "cell_type": "markdown",
   "source": [
    "Let's simulate a forest of 10 x 10 trees with a distance between (and within) rows\n",
    "of 2 meters. First we generate the original positions of the trees. For the\n",
    "position we just need to pass a `Vec` object with the x, y, and z coordinates of\n",
    "the location of each TreeTypes. The code below will generate a matrix with the coordinates:"
   ],
   "metadata": {}
  },
  {
   "outputs": [],
   "cell_type": "code",
   "source": [
    "origins = [Vec(i,j,0) for i = 1:2.0:20.0, j = 1:2.0:20.0]"
   ],
   "metadata": {},
   "execution_count": null
  },
  {
   "cell_type": "markdown",
   "source": [
    "We may assume that the initial orientation is uniformly distributed between 0 and 360 degrees:"
   ],
   "metadata": {}
  },
  {
   "outputs": [],
   "cell_type": "code",
   "source": [
    "orientations = [rand()*360.0 for i = 1:2.0:20.0, j = 1:2.0:20.0]"
   ],
   "metadata": {},
   "execution_count": null
  },
  {
   "cell_type": "markdown",
   "source": [
    "For the `growth` and `budbreak` parameters we will assumed that they follow a\n",
    "LogNormal and Beta distribution, respectively. We can generate random\n",
    "values from these distributions using the `Distributions` package. For the\n",
    "relative growth rate:"
   ],
   "metadata": {}
  },
  {
   "outputs": [],
   "cell_type": "code",
   "source": [
    "growths = rand(LogNormal(-2, 0.3), 10, 10)\n",
    "histogram(vec(growths))"
   ],
   "metadata": {},
   "execution_count": null
  },
  {
   "cell_type": "markdown",
   "source": [
    "And for the budbreak parameter:"
   ],
   "metadata": {}
  },
  {
   "outputs": [],
   "cell_type": "code",
   "source": [
    "budbreaks = rand(Beta(2.0, 10), 10, 10)\n",
    "histogram(vec(budbreaks))"
   ],
   "metadata": {},
   "execution_count": null
  },
  {
   "cell_type": "markdown",
   "source": [
    "Now we can create our forest by calling the `create_tree` function we defined earlier\n",
    "with the correct inputs per tree:"
   ],
   "metadata": {}
  },
  {
   "outputs": [],
   "cell_type": "code",
   "source": [
    "forest = vec(create_tree.(origins, growths, budbreaks, orientations));"
   ],
   "metadata": {},
   "execution_count": null
  },
  {
   "cell_type": "markdown",
   "source": [
    "By vectorizing `create_tree()` over the different arrays, we end up with an array\n",
    "of trees. Each tree is a different Graph, with its own nodes, rewriting rules\n",
    "and variables. This avoids having to create a large graphs to include all the\n",
    "plants in a simulation. Below we will run a simulation, first using a sequential\n",
    "approach (i.e. using one core) and then using multiple cores in our computers (please check\n",
    "https://docs.julialang.org/en/v1/manual/multi-threading/ if the different cores are not being used\n",
    "as you may need to change some settings in your computer).\n",
    "\n",
    "## Sequential simulation\n",
    "\n",
    "We can simulate the growth of each tree by applying the method `simulate` to each\n",
    "tree, creating a new version of the forest (the code below is an array comprehension)"
   ],
   "metadata": {}
  },
  {
   "outputs": [],
   "cell_type": "code",
   "source": [
    "newforest = [simulate(tree, getInternode, 2) for tree in forest];"
   ],
   "metadata": {},
   "execution_count": null
  },
  {
   "cell_type": "markdown",
   "source": [
    "And we can render the forest with the function `render` as in the binary tree\n",
    "example but passing the whole forest at once"
   ],
   "metadata": {}
  },
  {
   "outputs": [],
   "cell_type": "code",
   "source": [
    "render(Scene(newforest))"
   ],
   "metadata": {},
   "execution_count": null
  },
  {
   "cell_type": "markdown",
   "source": [
    "If we iterate 4 more iterations we will start seeing the different individuals\n",
    "diverging in size due to the differences in growth rates"
   ],
   "metadata": {}
  },
  {
   "outputs": [],
   "cell_type": "code",
   "source": [
    "newforest = [simulate(tree, getInternode, 15) for tree in newforest];\n",
    "render(Scene(newforest))"
   ],
   "metadata": {},
   "execution_count": null
  },
  {
   "cell_type": "markdown",
   "source": [
    "## Multithreaded simulation\n",
    "\n",
    "In the previous section, the simulation of growth was done sequentially, one tree\n",
    "after another (since the growth of a tree only depends on its own parameters). However,\n",
    "this can also be executed in multiple threads. In this case we use an explicit loop\n",
    "and execute the iterations of the loop in multiple threads using the macro `@threads`.\n",
    "Note that the rendering function can also be ran in parallel (i.e. the geometry will be\n",
    "generated separately for each plant and the merge together):"
   ],
   "metadata": {}
  },
  {
   "outputs": [],
   "cell_type": "code",
   "source": [
    "using Base.Threads\n",
    "newforest = deepcopy(forest)\n",
    "@threads for i in 1:length(forest)\n",
    "    newforest[i] = simulate(forest[i], getInternode, 6)\n",
    "end\n",
    "render(Scene(newforest, parallel = true))"
   ],
   "metadata": {},
   "execution_count": null
  },
  {
   "cell_type": "markdown",
   "source": [
    "An alternative way to perform the simulation is to have an outer loop for each timestep and an internal loop over the different trees. Although this approach is not required for this simple model, most FSP models will probably need such a scheme as growth of each individual plant will depend on competition for resources with neighbouring plants. In this case, this approach would look as follows:"
   ],
   "metadata": {}
  },
  {
   "outputs": [],
   "cell_type": "code",
   "source": [
    "newforest = deepcopy(forest)\n",
    "for step in 1:15\n",
    "    @threads for i in 1:length(newforest)\n",
    "        newforest[i] = simulate(newforest[i], getInternode, 1)\n",
    "    end\n",
    "end\n",
    "render(Scene(newforest, parallel = true))"
   ],
   "metadata": {},
   "execution_count": null
  },
  {
   "cell_type": "markdown",
   "source": [
    "# Customizing the scene\n",
    "\n",
    "Here we are going to customize the scene of our simulation by adding a horizontal tile represting soil and\n",
    "tweaking the 3D representation. When we want to combine plants generated from graphs with any other\n",
    "geometric element it is best to combine all these geometries in a `GLScene` object. We can start the scene\n",
    "with the `newforest` generated in the above:"
   ],
   "metadata": {}
  },
  {
   "outputs": [],
   "cell_type": "code",
   "source": [
    "scene = Scene(newforest);"
   ],
   "metadata": {},
   "execution_count": null
  },
  {
   "cell_type": "markdown",
   "source": [
    "We can create the soil tile directly, without having to create a graph. The simplest approach is two use\n",
    "a special constructor `Rectangle` where one species a corner of the rectangle and two vectors defining the\n",
    "two sides of the vectors. Both the sides and the corner need to be specified with `Vec` just like in the\n",
    "above when we determined the origin of each plant. VPL offers some shortcuts: `O()` returns the origin\n",
    "(`Vec(0.0, 0.0, 0.0)`), whereas `X`, `Y` and `Z` returns the corresponding axes and you can scale them by\n",
    "passing the desired length as input. Below, a rectangle is created on the XY plane with the origin as a\n",
    "corner and each side being 11 units long:"
   ],
   "metadata": {}
  },
  {
   "outputs": [],
   "cell_type": "code",
   "source": [
    "soil = Rectangle(length = 21.0, width = 21.0)\n",
    "rotatey!(soil, pi/2)\n",
    "VirtualPlantLab.translate!(soil, Vec(0.0, 10.5, 0.0))"
   ],
   "metadata": {},
   "execution_count": null
  },
  {
   "cell_type": "markdown",
   "source": [
    "We can now add the `soil` to the `scene` object with the `add!` function."
   ],
   "metadata": {}
  },
  {
   "outputs": [],
   "cell_type": "code",
   "source": [
    "VirtualPlantLab.add!(scene, mesh = soil, colors = RGB(1,1,0))"
   ],
   "metadata": {},
   "execution_count": null
  },
  {
   "cell_type": "markdown",
   "source": [
    "We can now render the scene that combines the random forest of binary trees and a yellow soil. Notice that\n",
    "in all previous figures, a coordinate system with grids was being depicted. This is helpful for debugging\n",
    "your code but also to help setup the scene (e.g. if you are not sure how big the soil tile should be).\n",
    "Howver, it may be distracting for the visualization. It turns out that we can turn that off with\n",
    "`axes = false`:"
   ],
   "metadata": {}
  },
  {
   "outputs": [],
   "cell_type": "code",
   "source": [
    "render(scene, axes = false)"
   ],
   "metadata": {},
   "execution_count": null
  },
  {
   "cell_type": "markdown",
   "source": [
    "We may also want to save a screenshot of the scene. For this, we need to store the output of the `render` function.\n",
    "We can then resize the window rendering the scene, move around, zoom, etc. When we have a perspective that we like,\n",
    "we can run the `save_scene` function on the object returned from `render`. The argument `resolution` can be adjusted in both\n",
    "`render` to increase the number of pixels in the final image. A helper function `calculate_resolution` is provided to\n",
    "compute the resolution from a physical width and height in cm and a dpi (e.g., useful for publications and posters):"
   ],
   "metadata": {}
  },
  {
   "outputs": [],
   "cell_type": "code",
   "source": [
    "res = calculate_resolution(width = 16.0, height = 16.0, dpi = 1_000)\n",
    "output = render(scene, axes = false, size = res)\n",
    "export_scene(scene = output, filename = \"nice_trees.png\")"
   ],
   "metadata": {},
   "execution_count": null
  },
  {
   "cell_type": "markdown",
   "source": [
    "---\n",
    "\n",
    "*This notebook was generated using [Literate.jl](https://github.com/fredrikekre/Literate.jl).*"
   ],
   "metadata": {}
  }
 ],
 "nbformat_minor": 3,
 "metadata": {
  "language_info": {
   "file_extension": ".jl",
   "mimetype": "application/julia",
   "name": "julia",
   "version": "1.10.4"
  },
  "kernelspec": {
   "name": "julia-1.10",
   "display_name": "Julia 1.10.4",
   "language": "julia"
  }
 },
 "nbformat": 4
}
