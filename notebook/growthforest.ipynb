{
 "cells": [
  {
   "cell_type": "markdown",
   "source": [
    "# Growth forest\n",
    "\n",
    "Alejandro Morales & Ana Ernst\n",
    "\n",
    "Centre for Crop Systems Analysis - Wageningen University\n",
    "\n",
    "> ## TL;DR\n",
    "> Now we want to implement a more extended functionality of our [Forest]()!\n",
    "> - Growth rules, based on information stored in organs (dimensions, carbon assimilation)\n",
    "> - Update dimensions in function of assimilation\n",
    "> - Compute sink strength\n",
    "> - Merge Scenes\n",
    "> - Generate forest on grid and retrieve canopy-level data (e.g., LAI)\n",
    ">\n",
    "\n",
    "In this example we extend the binary forest example to have more complex, time-\n",
    "dependent development and growth based on carbon allocation. For simplicity, the\n",
    "model assumes a constant relative growth rate at the plant level to compute the\n",
    "biomass increment. In the next example this assumption is relaxed by a model of\n",
    "radiation use efficiency. When modelling growth from carbon allocation, the\n",
    "biomass of each organ is then translated in to an area or volume and the\n",
    "dimensions of the organs are updated accordingly (assuming a particular shape).\n",
    "\n",
    "The following packages are needed:"
   ],
   "metadata": {}
  },
  {
   "outputs": [],
   "cell_type": "code",
   "source": [
    "using VirtualPlantLab, ColorTypes\n",
    "using Base.Threads: @threads\n",
    "using Plots\n",
    "import Random\n",
    "using FastGaussQuadrature\n",
    "using Distributions\n",
    "Random.seed!(123456789)\n",
    "import GLMakie"
   ],
   "metadata": {},
   "execution_count": null
  },
  {
   "cell_type": "markdown",
   "source": [
    "## Model definition\n",
    "\n",
    "### Node types\n",
    "\n",
    "The data types needed to simulate the trees are given in the following\n",
    "module. The differences with respect to the previous example are:\n",
    "\n",
    "    - Meristems do not produce phytomers every day\n",
    "    - A relative sink strength approach is used to allocate biomass to organs\n",
    "    - The geometry of the organs is updated based on the new biomass\n",
    "    - Bud break probability is a function of distance to apical meristem"
   ],
   "metadata": {}
  },
  {
   "outputs": [],
   "cell_type": "code",
   "source": [
    "# Data types\n",
    "module TreeTypes\n",
    "    using VirtualPlantLab\n",
    "    using Distributions\n",
    "    # Meristem\n",
    "    Base.@kwdef mutable struct Meristem <: VirtualPlantLab.Node\n",
    "        age::Int64 = 0   # Age of the meristem\n",
    "    end\n",
    "    # Bud\n",
    "    struct Bud <: VirtualPlantLab.Node end\n",
    "    # Node\n",
    "    struct Node <: VirtualPlantLab.Node end\n",
    "    # BudNode\n",
    "    struct BudNode <: VirtualPlantLab.Node end\n",
    "    # Internode (needs to be mutable to allow for changes over time)\n",
    "    Base.@kwdef mutable struct Internode <: VirtualPlantLab.Node\n",
    "        age::Int64 = 0         ## Age of the internode\n",
    "        biomass::Float64 = 0.0 ## Initial biomass\n",
    "        length::Float64 = 0.0  ## Internodes\n",
    "        width::Float64  = 0.0  ## Internodes\n",
    "        sink::Exponential{Float64} = Exponential(5)\n",
    "    end\n",
    "    # Leaf\n",
    "    Base.@kwdef mutable struct Leaf <: VirtualPlantLab.Node\n",
    "        age::Int64 = 0         ## Age of the leaf\n",
    "        biomass::Float64 = 0.0 ## Initial biomass\n",
    "        length::Float64 = 0.0  ## Leaves\n",
    "        width::Float64 = 0.0   ## Leaves\n",
    "        sink::Beta{Float64} = Beta(2,5)\n",
    "    end\n",
    "    # Graph-level variables -> mutable because we need to modify them during growth\n",
    "    Base.@kwdef mutable struct treeparams\n",
    "        # Variables\n",
    "        biomass::Float64 = 2e-3 ## Current total biomass (g)\n",
    "        # Parameters\n",
    "        RGR::Float64 = 1.0   ## Relative growth rate (1/d)\n",
    "        IB0::Float64 = 1e-3  ## Initial biomass of an internode (g)\n",
    "        SIW::Float64 = 0.1e6 ## Specific internode weight (g/m3)\n",
    "        IS::Float64  = 15.0  ## Internode shape parameter (length/width)\n",
    "        LB0::Float64 = 1e-3  ## Initial biomass of a leaf\n",
    "        SLW::Float64 = 100.0 ## Specific leaf weight (g/m2)\n",
    "        LS::Float64  = 3.0   ## Leaf shape parameter (length/width)\n",
    "        budbreak::Float64 = 1/0.5 ## Bud break probability coefficient (in 1/m)\n",
    "        plastochron::Int64 = 5 ## Number of days between phytomer production\n",
    "        leaf_expansion::Float64 = 15.0 ## Number of days that a leaf expands\n",
    "        phyllotaxis::Float64 = 140.0\n",
    "        leaf_angle::Float64 = 30.0\n",
    "        branch_angle::Float64 = 45.0\n",
    "    end\n",
    "end\n",
    "\n",
    "import .TreeTypes"
   ],
   "metadata": {},
   "execution_count": null
  },
  {
   "cell_type": "markdown",
   "source": [
    "### Geometry\n",
    "\n",
    "The methods for creating the geometry and color of the tree are the same as in\n",
    "the previous example.\n",
    "Create geometry + color for the internodes"
   ],
   "metadata": {}
  },
  {
   "outputs": [],
   "cell_type": "code",
   "source": [
    "function VirtualPlantLab.feed!(turtle::Turtle, i::TreeTypes.Internode, vars)\n",
    "    # Rotate turtle around the head to implement elliptical phyllotaxis\n",
    "    rh!(turtle, vars.phyllotaxis)\n",
    "    HollowCylinder!(turtle, length = i.length, height = i.width, width = i.width,\n",
    "                move = true, colors = RGB(0.5,0.4,0.0))\n",
    "    return nothing\n",
    "end\n",
    "\n",
    "# Create geometry + color for the leaves\n",
    "function VirtualPlantLab.feed!(turtle::Turtle, l::TreeTypes.Leaf, vars)\n",
    "    # Rotate turtle around the arm for insertion angle\n",
    "    ra!(turtle, -vars.leaf_angle)\n",
    "    # Generate the leaf\n",
    "    Ellipse!(turtle, length = l.length, width = l.width, move = false,\n",
    "             colors = RGB(0.2,0.6,0.2))\n",
    "    # Rotate turtle back to original direction\n",
    "    ra!(turtle, vars.leaf_angle)\n",
    "    return nothing\n",
    "end\n",
    "\n",
    "# Insertion angle for the bud nodes\n",
    "function VirtualPlantLab.feed!(turtle::Turtle, b::TreeTypes.BudNode, vars)\n",
    "    # Rotate turtle around the arm for insertion angle\n",
    "    ra!(turtle, -vars.branch_angle)\n",
    "end"
   ],
   "metadata": {},
   "execution_count": null
  },
  {
   "cell_type": "markdown",
   "source": [
    "### Development\n",
    "\n",
    "The meristem rule is now parameterized by the initial states of the leaves and\n",
    "internodes and will only be triggered every X days where X is the plastochron.\n",
    "Create right side of the growth rule (parameterized by the initial states\n",
    "of the leaves and internodes)"
   ],
   "metadata": {}
  },
  {
   "outputs": [],
   "cell_type": "code",
   "source": [
    "function create_meristem_rule(vleaf, vint)\n",
    "    meristem_rule = Rule(TreeTypes.Meristem,\n",
    "                        lhs = mer -> mod(data(mer).age, graph_data(mer).plastochron) == 0,\n",
    "                        rhs = mer -> TreeTypes.Node() +\n",
    "                                     (TreeTypes.Bud(),\n",
    "                                     TreeTypes.Leaf(biomass = vleaf.biomass,\n",
    "                                                    length  = vleaf.length,\n",
    "                                                    width   = vleaf.width)) +\n",
    "                                     TreeTypes.Internode(biomass = vint.biomass,\n",
    "                                                         length  = vint.length,\n",
    "                                                         width   = vint.width) +\n",
    "                                     TreeTypes.Meristem())\n",
    "end"
   ],
   "metadata": {},
   "execution_count": null
  },
  {
   "cell_type": "markdown",
   "source": [
    "The bud break probability is now a function of distance to the apical meristem\n",
    "rather than the number of internodes. An adhoc traversal is used to compute this\n",
    "length of the main branch a bud belongs to (ignoring the lateral branches)."
   ],
   "metadata": {}
  },
  {
   "outputs": [],
   "cell_type": "code",
   "source": [
    "# Compute the probability that a bud breaks as function of distance to the meristem\n",
    "function prob_break(bud)\n",
    "    # We move to parent node in the branch where the bud was created\n",
    "    node =  parent(bud)\n",
    "    # Extract the first internode\n",
    "    child = filter(x -> data(x) isa TreeTypes.Internode, children(node))[1]\n",
    "    data_child = data(child)\n",
    "    # We measure the length of the branch until we find the meristem\n",
    "    distance = 0.0\n",
    "    while !isa(data_child, TreeTypes.Meristem)\n",
    "        # If we encounter an internode, store the length and move to the next node\n",
    "        if data_child isa TreeTypes.Internode\n",
    "            distance += data_child.length\n",
    "            child = children(child)[1]\n",
    "            data_child = data(child)\n",
    "        # If we encounter a node, extract the next internode\n",
    "        elseif data_child isa TreeTypes.Node\n",
    "                child = filter(x -> data(x) isa TreeTypes.Internode, children(child))[1]\n",
    "                data_child = data(child)\n",
    "        else\n",
    "            error(\"Should be Internode, Node or Meristem\")\n",
    "        end\n",
    "    end\n",
    "    # Compute the probability of bud break as function of distance and\n",
    "    # make stochastic decision\n",
    "    prob =  min(1.0, distance*graph_data(bud).budbreak)\n",
    "    return rand() < prob\n",
    "end\n",
    "\n",
    "# Branch rule parameterized by initial states of internodes\n",
    "function create_branch_rule(vint)\n",
    "    branch_rule = Rule(TreeTypes.Bud,\n",
    "            lhs = prob_break,\n",
    "            rhs = bud -> TreeTypes.BudNode() +\n",
    "                         TreeTypes.Internode(biomass = vint.biomass,\n",
    "                                             length  = vint.length,\n",
    "                                             width   = vint.width) +\n",
    "                         TreeTypes.Meristem())\n",
    "end"
   ],
   "metadata": {},
   "execution_count": null
  },
  {
   "cell_type": "markdown",
   "source": [
    "### Growth\n",
    "\n",
    "We need some functions to compute the length and width of a leaf or internode\n",
    "from its biomass"
   ],
   "metadata": {}
  },
  {
   "outputs": [],
   "cell_type": "code",
   "source": [
    "function leaf_dims(biomass, vars)\n",
    "    leaf_biomass = biomass\n",
    "    leaf_area    = biomass/vars.SLW\n",
    "    leaf_length  = sqrt(leaf_area*4*vars.LS/pi)\n",
    "    leaf_width   = leaf_length/vars.LS\n",
    "    return leaf_length, leaf_width\n",
    "end\n",
    "\n",
    "function int_dims(biomass, vars)\n",
    "    int_biomass = biomass\n",
    "    int_volume  = biomass/vars.SIW\n",
    "    int_length  = cbrt(int_volume*4*vars.IS^2/pi)\n",
    "    int_width   = int_length/vars.IS\n",
    "    return int_length, int_width\n",
    "end"
   ],
   "metadata": {},
   "execution_count": null
  },
  {
   "cell_type": "markdown",
   "source": [
    "Each day, the total biomass of the tree is updated using a simple RGR formula\n",
    "and the increment of biomass is distributed across the organs proportionally to\n",
    "their relative sink strength (of leaves or internodes).\n",
    "\n",
    "The sink strength of leaves is modelled with a beta distribution scaled to the\n",
    "`leaf_expansion` argument that determines the duration of leaf growth, whereas\n",
    "for the internodes it follows a negative exponential distribution. The `pdf`\n",
    "function computes the probability density of each distribution which is taken as\n",
    "proportional to the sink strength (the model is actually source-limited since we\n",
    "imposed a particular growth rate)."
   ],
   "metadata": {}
  },
  {
   "outputs": [],
   "cell_type": "code",
   "source": [
    "sink_strength(leaf, vars) = leaf.age > vars.leaf_expansion ? 0.0 :\n",
    "                            pdf(leaf.sink, leaf.age/vars.leaf_expansion)/100.0\n",
    "plot(0:1:50, x -> sink_strength(TreeTypes.Leaf(age = x), TreeTypes.treeparams()),\n",
    "     xlabel = \"Age\", ylabel = \"Sink strength\", label = \"Leaf\")\n",
    "\n",
    "sink_strength(int) = pdf(int.sink, int.age)\n",
    "plot!(0:1:50, x -> sink_strength(TreeTypes.Internode(age = x)), label = \"Internode\")"
   ],
   "metadata": {},
   "execution_count": null
  },
  {
   "cell_type": "markdown",
   "source": [
    "Now we need a function that updates the biomass of the tree, allocates it to the\n",
    "different organs and updates the dimensions of said organs. For simplicity,\n",
    "we create the functions `leaves()` and `internodes()` that will apply the queries\n",
    "to the tree required to extract said nodes:"
   ],
   "metadata": {}
  },
  {
   "outputs": [],
   "cell_type": "code",
   "source": [
    "get_leaves(tree) = apply(tree, Query(TreeTypes.Leaf))\n",
    "get_internodes(tree) = apply(tree, Query(TreeTypes.Internode))"
   ],
   "metadata": {},
   "execution_count": null
  },
  {
   "cell_type": "markdown",
   "source": [
    "The age of the different organs is updated every time step:"
   ],
   "metadata": {}
  },
  {
   "outputs": [],
   "cell_type": "code",
   "source": [
    "function age!(all_leaves, all_internodes, all_meristems)\n",
    "    for leaf in all_leaves\n",
    "        leaf.age += 1\n",
    "    end\n",
    "    for int in all_internodes\n",
    "        int.age += 1\n",
    "    end\n",
    "    for mer in all_meristems\n",
    "        mer.age += 1\n",
    "    end\n",
    "    return nothing\n",
    "end"
   ],
   "metadata": {},
   "execution_count": null
  },
  {
   "cell_type": "markdown",
   "source": [
    "The daily growth is allocated to different organs proportional to their sink\n",
    "strength."
   ],
   "metadata": {}
  },
  {
   "outputs": [],
   "cell_type": "code",
   "source": [
    "function grow!(tree, all_leaves, all_internodes)\n",
    "    # Compute total biomass increment\n",
    "    tvars = data(tree)\n",
    "    ΔB    = tvars.RGR*tvars.biomass\n",
    "    tvars.biomass += ΔB\n",
    "    # Total sink strength\n",
    "    total_sink = 0.0\n",
    "    for leaf in all_leaves\n",
    "        total_sink += sink_strength(leaf, tvars)\n",
    "    end\n",
    "    for int in all_internodes\n",
    "        total_sink += sink_strength(int)\n",
    "    end\n",
    "    # Allocate biomass to leaves and internodes\n",
    "    for leaf in all_leaves\n",
    "        leaf.biomass += ΔB*sink_strength(leaf, tvars)/total_sink\n",
    "    end\n",
    "    for int in all_internodes\n",
    "        int.biomass += ΔB*sink_strength(int)/total_sink\n",
    "    end\n",
    "    return nothing\n",
    "end"
   ],
   "metadata": {},
   "execution_count": null
  },
  {
   "cell_type": "markdown",
   "source": [
    "Finally, we need to update the dimensions of the organs. The leaf dimensions are"
   ],
   "metadata": {}
  },
  {
   "outputs": [],
   "cell_type": "code",
   "source": [
    "function size_leaves!(all_leaves, tvars)\n",
    "    for leaf in all_leaves\n",
    "        leaf.length, leaf.width = leaf_dims(leaf.biomass, tvars)\n",
    "    end\n",
    "    return nothing\n",
    "end\n",
    "function size_internodes!(all_internodes, tvars)\n",
    "    for int in all_internodes\n",
    "        int.length, int.width = int_dims(int.biomass, tvars)\n",
    "    end\n",
    "    return nothing\n",
    "end"
   ],
   "metadata": {},
   "execution_count": null
  },
  {
   "cell_type": "markdown",
   "source": [
    "### Daily step\n",
    "\n",
    "All the growth and developmental functions are combined together into a daily\n",
    "step function that updates the forest by iterating over the different trees in\n",
    "parallel."
   ],
   "metadata": {}
  },
  {
   "outputs": [],
   "cell_type": "code",
   "source": [
    "get_meristems(tree) = apply(tree, Query(TreeTypes.Meristem))\n",
    "function daily_step!(forest)\n",
    "    @threads for tree in forest\n",
    "        # Retrieve all the relevant organs\n",
    "        all_leaves = get_leaves(tree)\n",
    "        all_internodes = get_internodes(tree)\n",
    "        all_meristems = get_meristems(tree)\n",
    "        # Update the age of the organs\n",
    "        age!(all_leaves, all_internodes, all_meristems)\n",
    "        # Grow the tree\n",
    "        grow!(tree, all_leaves, all_internodes)\n",
    "        tvars = data(tree)\n",
    "        size_leaves!(all_leaves, tvars)\n",
    "        size_internodes!(all_internodes, tvars)\n",
    "        # Developmental rules\n",
    "        rewrite!(tree)\n",
    "    end\n",
    "end"
   ],
   "metadata": {},
   "execution_count": null
  },
  {
   "cell_type": "markdown",
   "source": [
    "### Initialization\n",
    "\n",
    "The trees are initialized in a regular grid with random values for the initial\n",
    "orientation and RGR:"
   ],
   "metadata": {}
  },
  {
   "outputs": [],
   "cell_type": "code",
   "source": [
    "RGRs = rand(Normal(0.3,0.01), 10, 10)\n",
    "histogram(vec(RGRs))\n",
    "\n",
    "orientations = [rand()*360.0 for i = 1:2.0:20.0, j = 1:2.0:20.0]\n",
    "histogram(vec(orientations))\n",
    "\n",
    "origins = [Vec(i,j,0) for i = 1:2.0:20.0, j = 1:2.0:20.0];"
   ],
   "metadata": {},
   "execution_count": null
  },
  {
   "cell_type": "markdown",
   "source": [
    "The following initalizes a tree based on the origin, orientation and RGR:"
   ],
   "metadata": {}
  },
  {
   "outputs": [],
   "cell_type": "code",
   "source": [
    "function create_tree(origin, orientation, RGR)\n",
    "    # Initial state and parameters of the tree\n",
    "    vars = TreeTypes.treeparams(RGR = RGR)\n",
    "    # Initial states of the leaves\n",
    "    leaf_length, leaf_width = leaf_dims(vars.LB0, vars)\n",
    "    vleaf = (biomass = vars.LB0, length = leaf_length, width = leaf_width)\n",
    "    # Initial states of the internodes\n",
    "    int_length, int_width = int_dims(vars.LB0, vars)\n",
    "    vint = (biomass = vars.IB0, length = int_length, width = int_width)\n",
    "    # Growth rules\n",
    "    meristem_rule = create_meristem_rule(vleaf, vint)\n",
    "    branch_rule   = create_branch_rule(vint)\n",
    "    axiom = T(origin) + RH(orientation) +\n",
    "            TreeTypes.Internode(biomass = vint.biomass,\n",
    "                             length  = vint.length,\n",
    "                             width   = vint.width) +\n",
    "            TreeTypes.Meristem()\n",
    "    tree = Graph(axiom = axiom, rules = (meristem_rule, branch_rule),\n",
    "                 data = vars)\n",
    "    return tree\n",
    "end"
   ],
   "metadata": {},
   "execution_count": null
  },
  {
   "cell_type": "markdown",
   "source": [
    "## Visualization\n",
    "\n",
    "As in the previous example, it makes sense to visualize the forest with a soil\n",
    "tile beneath it. Unlike in the previous example, we will construct the soil tile\n",
    "using a dedicated graph and generate a `Scene` object which can later be\n",
    "merged with the rest of scene generated in daily step:"
   ],
   "metadata": {}
  },
  {
   "outputs": [],
   "cell_type": "code",
   "source": [
    "Base.@kwdef struct Soil <: VirtualPlantLab.Node\n",
    "    length::Float64\n",
    "    width::Float64\n",
    "end\n",
    "function VirtualPlantLab.feed!(turtle::Turtle, s::Soil, vars)\n",
    "    Rectangle!(turtle, length = s.length, width = s.width, colors = RGB(255/255, 236/255, 179/255))\n",
    "end\n",
    "soil_graph = RA(-90.0) + T(Vec(0.0, 10.0, 0.0)) + ## Moves into position\n",
    "             Soil(length = 20.0, width = 20.0) ## Draws the soil tile\n",
    "soil = Scene(Graph(axiom = soil_graph));\n",
    "render(soil, axes = false)"
   ],
   "metadata": {},
   "execution_count": null
  },
  {
   "cell_type": "markdown",
   "source": [
    "And the following function renders the entire scene (notice that we need to\n",
    "use `display()` to force the rendering of the scene when called within a loop\n",
    "or a function):"
   ],
   "metadata": {}
  },
  {
   "outputs": [],
   "cell_type": "code",
   "source": [
    "function render_forest(forest, soil)\n",
    "    scene = Scene(vec(forest)) ## create scene from forest\n",
    "    scene = Scene([scene, soil]) ## merges the two scenes\n",
    "    render(scene)\n",
    "end"
   ],
   "metadata": {},
   "execution_count": null
  },
  {
   "cell_type": "markdown",
   "source": [
    "## Retrieving canopy-level data\n",
    "\n",
    "We may want to extract some information at the canopy level such as LAI. This is\n",
    "best achieved with a query:"
   ],
   "metadata": {}
  },
  {
   "outputs": [],
   "cell_type": "code",
   "source": [
    "function get_LAI(forest)\n",
    "    LAI = 0.0\n",
    "    @threads for tree in forest\n",
    "        for leaf in get_leaves(tree)\n",
    "            LAI += leaf.length*leaf.width*pi/4.0\n",
    "        end\n",
    "    end\n",
    "    return LAI/400.0\n",
    "end"
   ],
   "metadata": {},
   "execution_count": null
  },
  {
   "cell_type": "markdown",
   "source": [
    "## Simulation\n",
    "\n",
    "We can now create a forest of trees on a regular grid:"
   ],
   "metadata": {}
  },
  {
   "outputs": [],
   "cell_type": "code",
   "source": [
    "forest = create_tree.(origins, orientations, RGRs);\n",
    "render_forest(forest, soil)\n",
    "for i in 1:50\n",
    "    daily_step!(forest)\n",
    "end\n",
    "render_forest(forest, soil)"
   ],
   "metadata": {},
   "execution_count": null
  },
  {
   "cell_type": "markdown",
   "source": [
    "And compute the leaf area index:"
   ],
   "metadata": {}
  },
  {
   "outputs": [],
   "cell_type": "code",
   "source": [
    "get_LAI(forest)"
   ],
   "metadata": {},
   "execution_count": null
  },
  {
   "cell_type": "markdown",
   "source": [
    "---\n",
    "\n",
    "*This notebook was generated using [Literate.jl](https://github.com/fredrikekre/Literate.jl).*"
   ],
   "metadata": {}
  }
 ],
 "nbformat_minor": 3,
 "metadata": {
  "language_info": {
   "file_extension": ".jl",
   "mimetype": "application/julia",
   "name": "julia",
   "version": "1.10.4"
  },
  "kernelspec": {
   "name": "julia-1.10",
   "display_name": "Julia 1.10.4",
   "language": "julia"
  }
 },
 "nbformat": 4
}
