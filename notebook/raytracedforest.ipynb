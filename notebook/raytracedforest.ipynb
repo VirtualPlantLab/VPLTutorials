{
 "cells": [
  {
   "cell_type": "markdown",
   "source": [
    "# Ray-traced forest\n",
    "\n",
    "Alejandro Morales\n",
    "\n",
    "Centre for Crop Systems Analysis - Wageningen University\n",
    "\n",
    "\n",
    "In this example we extend the forest growth model to include PAR interception a\n",
    "radiation use efficiency to compute the daily growth rate.\n",
    "\n",
    "The following packages are needed:"
   ],
   "metadata": {}
  },
  {
   "outputs": [],
   "cell_type": "code",
   "source": [
    "using VirtualPlantLab, ColorTypes\n",
    "import GLMakie\n",
    "using Base.Threads: @threads\n",
    "using Plots\n",
    "import Random\n",
    "using FastGaussQuadrature\n",
    "using Distributions\n",
    "using SkyDomes\n",
    "Random.seed!(123456789)"
   ],
   "metadata": {},
   "execution_count": null
  },
  {
   "cell_type": "markdown",
   "source": [
    "## Model definition\n",
    "\n",
    "### Node types\n",
    "\n",
    "The data types needed to simulate the trees are given in the following\n",
    "module. The difference with respec to the previous model is that Internodes and\n",
    "Leaves have optical properties needed for ray tracing (they are defined as\n",
    "Lambertian surfaces)."
   ],
   "metadata": {}
  },
  {
   "outputs": [],
   "cell_type": "code",
   "source": [
    "# Data types\n",
    "module TreeTypes\n",
    "    using VirtualPlantLab\n",
    "    using Distributions\n",
    "    # Meristem\n",
    "    Base.@kwdef mutable struct Meristem <: VirtualPlantLab.Node\n",
    "        age::Int64 = 0   ## Age of the meristem\n",
    "    end\n",
    "    # Bud\n",
    "    struct Bud <: VirtualPlantLab.Node end\n",
    "    # Node\n",
    "    struct Node <: VirtualPlantLab.Node end\n",
    "    # BudNode\n",
    "    struct BudNode <: VirtualPlantLab.Node end\n",
    "    # Internode (needs to be mutable to allow for changes over time)\n",
    "    Base.@kwdef mutable struct Internode <: VirtualPlantLab.Node\n",
    "        age::Int64 = 0         ## Age of the internode\n",
    "        biomass::Float64 = 0.0 ## Initial biomass\n",
    "        length::Float64 = 0.0  ## Internodes\n",
    "        width::Float64  = 0.0  ## Internodes\n",
    "        sink::Exponential{Float64} = Exponential(5)\n",
    "        material::Lambertian{1} = Lambertian(τ = 0.1, ρ = 0.05) ## Leaf material\n",
    "    end\n",
    "    # Leaf\n",
    "    Base.@kwdef mutable struct Leaf <: VirtualPlantLab.Node\n",
    "        age::Int64 = 0         ## Age of the leaf\n",
    "        biomass::Float64 = 0.0 ## Initial biomass\n",
    "        length::Float64 = 0.0  ## Leaves\n",
    "        width::Float64 = 0.0   ## Leaves\n",
    "        sink::Beta{Float64} = Beta(2,5)\n",
    "        material::Lambertian{1} = Lambertian(τ = 0.1, ρ = 0.05) ## Leaf material\n",
    "    end\n",
    "    # Graph-level variables -> mutable because we need to modify them during growth\n",
    "    Base.@kwdef mutable struct treeparams\n",
    "        # Variables\n",
    "        PAR::Float64 = 0.0   ## Total PAR absorbed by the leaves on the tree (MJ)\n",
    "        biomass::Float64 = 2e-3 ## Current total biomass (g)\n",
    "        # Parameters\n",
    "        RUE::Float64 = 5.0   ## Radiation use efficiency (g/MJ) -> unrealistic to speed up sim\n",
    "        IB0::Float64 = 1e-3  ## Initial biomass of an internode (g)\n",
    "        SIW::Float64 = 0.1e6 ## Specific internode weight (g/m3)\n",
    "        IS::Float64  = 15.0  ## Internode shape parameter (length/width)\n",
    "        LB0::Float64 = 1e-3  ## Initial biomass of a leaf\n",
    "        SLW::Float64 = 100.0 ## Specific leaf weight (g/m2)\n",
    "        LS::Float64  = 3.0   ## Leaf shape parameter (length/width)\n",
    "        budbreak::Float64 = 1/0.5 ## Bud break probability coefficient (in 1/m)\n",
    "        plastochron::Int64 = 5 ## Number of days between phytomer production\n",
    "        leaf_expansion::Float64 = 15.0 ## Number of days that a leaf expands\n",
    "        phyllotaxis::Float64 = 140.0\n",
    "        leaf_angle::Float64 = 30.0\n",
    "        branch_angle::Float64 = 45.0\n",
    "    end\n",
    "end\n",
    "\n",
    "import .TreeTypes"
   ],
   "metadata": {},
   "execution_count": null
  },
  {
   "cell_type": "markdown",
   "source": [
    "### Geometry\n",
    "\n",
    "The methods for creating the geometry and color of the tree are the same as in\n",
    "the previous example but include the materials for the ray tracer."
   ],
   "metadata": {}
  },
  {
   "outputs": [],
   "cell_type": "code",
   "source": [
    "# Create geometry + color for the internodes\n",
    "function VirtualPlantLab.feed!(turtle::Turtle, i::TreeTypes.Internode, data)\n",
    "    # Rotate turtle around the head to implement elliptical phyllotaxis\n",
    "    rh!(turtle, data.phyllotaxis)\n",
    "    HollowCylinder!(turtle, length = i.length, height = i.width, width = i.width,\n",
    "                move = true, color = RGB(0.5,0.4,0.0), material = i.material)\n",
    "    return nothing\n",
    "end\n",
    "\n",
    "# Create geometry + color for the leaves\n",
    "function VirtualPlantLab.feed!(turtle::Turtle, l::TreeTypes.Leaf, data)\n",
    "    # Rotate turtle around the arm for insertion angle\n",
    "    ra!(turtle, -data.leaf_angle)\n",
    "    # Generate the leaf\n",
    "    Ellipse!(turtle, length = l.length, width = l.width, move = false,\n",
    "             color = RGB(0.2,0.6,0.2), material = l.material)\n",
    "    # Rotate turtle back to original direction\n",
    "    ra!(turtle, data.leaf_angle)\n",
    "    return nothing\n",
    "end\n",
    "\n",
    "# Insertion angle for the bud nodes\n",
    "function VirtualPlantLab.feed!(turtle::Turtle, b::TreeTypes.BudNode, data)\n",
    "    # Rotate turtle around the arm for insertion angle\n",
    "    ra!(turtle, -data.branch_angle)\n",
    "end"
   ],
   "metadata": {},
   "execution_count": null
  },
  {
   "cell_type": "markdown",
   "source": [
    "### Development\n",
    "\n",
    "The meristem rule is now parameterized by the initial states of the leaves and\n",
    "internodes and will only be triggered every X days where X is the plastochron."
   ],
   "metadata": {}
  },
  {
   "outputs": [],
   "cell_type": "code",
   "source": [
    "# Create right side of the growth rule (parameterized by the initial states\n",
    "# of the leaves and internodes)\n",
    "function create_meristem_rule(vleaf, vint)\n",
    "    meristem_rule = Rule(TreeTypes.Meristem,\n",
    "                        lhs = mer -> mod(data(mer).age, graph_data(mer).plastochron) == 0,\n",
    "                        rhs = mer -> TreeTypes.Node() +\n",
    "                                     (TreeTypes.Bud(),\n",
    "                                     TreeTypes.Leaf(biomass = vleaf.biomass,\n",
    "                                                    length  = vleaf.length,\n",
    "                                                    width   = vleaf.width)) +\n",
    "                                     TreeTypes.Internode(biomass = vint.biomass,\n",
    "                                                         length  = vint.length,\n",
    "                                                         width   = vint.width) +\n",
    "                                     TreeTypes.Meristem())\n",
    "end"
   ],
   "metadata": {},
   "execution_count": null
  },
  {
   "cell_type": "markdown",
   "source": [
    "The bud break probability is now a function of distance to the apical meristem\n",
    "rather than the number of internodes. An adhoc traversal is used to compute this\n",
    "length of the main branch a bud belongs to (ignoring the lateral branches).\n",
    "Compute the probability that a bud breaks as function of distance to the meristem"
   ],
   "metadata": {}
  },
  {
   "outputs": [],
   "cell_type": "code",
   "source": [
    "function prob_break(bud)\n",
    "    # We move to parent node in the branch where the bud was created\n",
    "    node =  parent(bud)\n",
    "    # Extract the first internode\n",
    "    child = filter(x -> data(x) isa TreeTypes.Internode, children(node))[1]\n",
    "    data_child = data(child)\n",
    "    # We measure the length of the branch until we find the meristem\n",
    "    distance = 0.0\n",
    "    while !isa(data_child, TreeTypes.Meristem)\n",
    "        # If we encounter an internode, store the length and move to the next node\n",
    "        if data_child isa TreeTypes.Internode\n",
    "            distance += data_child.length\n",
    "            child = children(child)[1]\n",
    "            data_child = data(child)\n",
    "        # If we encounter a node, extract the next internode\n",
    "        elseif data_child isa TreeTypes.Node\n",
    "                child = filter(x -> data(x) isa TreeTypes.Internode, children(child))[1]\n",
    "                data_child = data(child)\n",
    "        else\n",
    "            error(\"Should be Internode, Node or Meristem\")\n",
    "        end\n",
    "    end\n",
    "    # Compute the probability of bud break as function of distance and\n",
    "    # make stochastic decision\n",
    "    prob =  min(1.0, distance*graph_data(bud).budbreak)\n",
    "    return rand() < prob\n",
    "end\n",
    "\n",
    "# Branch rule parameterized by initial states of internodes\n",
    "function create_branch_rule(vint)\n",
    "    branch_rule = Rule(TreeTypes.Bud,\n",
    "            lhs = prob_break,\n",
    "            rhs = bud -> TreeTypes.BudNode() +\n",
    "                         TreeTypes.Internode(biomass = vint.biomass,\n",
    "                                             length  = vint.length,\n",
    "                                             width   = vint.width) +\n",
    "                         TreeTypes.Meristem())\n",
    "end"
   ],
   "metadata": {},
   "execution_count": null
  },
  {
   "cell_type": "markdown",
   "source": [
    "### Light interception\n",
    "\n",
    "As growth is now dependent on intercepted PAR via RUE, we now need to simulate\n",
    "light interception by the trees. We will use a ray-tracing approach to do so.\n",
    "The first step is to create a scene with the trees and the light sources. As for\n",
    "rendering, the scene can be created from the `forest` object by simply calling\n",
    "`Scene(forest)` that will generate the 3D meshes and connect them to their\n",
    "optical properties.\n",
    "\n",
    "However, we also want to add the soil surface as this will affect the light\n",
    "distribution within the scene due to reflection from the soil surface. This is\n",
    "similar to the customized scene that we created before for rendering, but now\n",
    "for the light simulation."
   ],
   "metadata": {}
  },
  {
   "outputs": [],
   "cell_type": "code",
   "source": [
    "function create_soil()\n",
    "    soil = Rectangle(length = 21.0, width = 21.0)\n",
    "    rotatey!(soil, π/2) ## To put it in the XY plane\n",
    "    VirtualPlantLab.translate!(soil, Vec(0.0, 10.5, 0.0)) ## Corner at (0,0,0)\n",
    "    return soil\n",
    "end\n",
    "function create_scene(forest)\n",
    "    # These are the trees\n",
    "    scene = Scene(vec(forest))\n",
    "    # Add a soil surface\n",
    "    soil = create_soil()\n",
    "    soil_material = Lambertian(τ = 0.0, ρ = 0.21)\n",
    "    add!(scene, mesh = soil, material = soil_material)\n",
    "    # Return the scene\n",
    "    return scene\n",
    "end"
   ],
   "metadata": {},
   "execution_count": null
  },
  {
   "cell_type": "markdown",
   "source": [
    "Given the scene, we can create the light sources that can approximate the solar\n",
    "irradiance on a given day, location and time of the day using the functions from\n",
    "the  package (see package documentation for details). Given the latitude,\n",
    "day of year and fraction of the day (`f = 0` being sunrise and `f = 1` being sunset),\n",
    "the function `clear_sky()` computes the direct and diffuse solar radiation assuming\n",
    "a clear sky. These values may be converted to different wavebands and units using\n",
    "`waveband_conversion()`. Finally, the collection of light sources approximating\n",
    "the solar irradiance distribution over the sky hemisphere is constructed with the\n",
    "function `sky()` (this last step requires the 3D scene as input in order to place\n",
    "the light sources adequately)."
   ],
   "metadata": {}
  },
  {
   "outputs": [],
   "cell_type": "code",
   "source": [
    "function create_sky(;scene, lat = 52.0*π/180.0, DOY = 182)\n",
    "    # Fraction of the day and day length\n",
    "    fs = collect(0.1:0.1:0.9)\n",
    "    dec = declination(DOY)\n",
    "    DL = day_length(lat, dec)*3600\n",
    "    # Compute solar irradiance\n",
    "    temp = [clear_sky(lat = lat, DOY = DOY, f = f) for f in fs] # W/m2\n",
    "    Ig   = getindex.(temp, 1)\n",
    "    Idir = getindex.(temp, 2)\n",
    "    Idif = getindex.(temp, 3)\n",
    "    # Conversion factors to PAR for direct and diffuse irradiance\n",
    "    f_dir = waveband_conversion(Itype = :direct,  waveband = :PAR, mode = :power)\n",
    "    f_dif = waveband_conversion(Itype = :diffuse, waveband = :PAR, mode = :power)\n",
    "    # Actual irradiance per waveband\n",
    "    Idir_PAR = f_dir.*Idir\n",
    "    Idif_PAR = f_dif.*Idif\n",
    "    # Create the dome of diffuse light\n",
    "    dome = sky(scene,\n",
    "                  Idir = 0.0, ## No direct solar radiation\n",
    "                  Idif = sum(Idir_PAR)/10*DL, ## Daily Diffuse solar radiation\n",
    "                  nrays_dif = 1_000_000, ## Total number of rays for diffuse solar radiation\n",
    "                  sky_model = StandardSky, ## Angular distribution of solar radiation\n",
    "                  dome_method = equal_solid_angles, ## Discretization of the sky dome\n",
    "                  ntheta = 9, ## Number of discretization steps in the zenith angle\n",
    "                  nphi = 12) ## Number of discretization steps in the azimuth angle\n",
    "    # Add direct sources for different times of the day\n",
    "    for I in Idir_PAR\n",
    "        push!(dome, sky(scene, Idir = I/10*DL, nrays_dir = 100_000, Idif = 0.0)[1])\n",
    "    end\n",
    "    return dome\n",
    "end"
   ],
   "metadata": {},
   "execution_count": null
  },
  {
   "cell_type": "markdown",
   "source": [
    "The 3D scene and the light sources are then combined into a `RayTracer` object,\n",
    "together with general settings for the ray tracing simulation chosen via `RTSettings()`.\n",
    "The most important settings refer to the Russian roulette system and the grid\n",
    "cloner (see section on Ray Tracing for details). The settings for the Russian\n",
    "roulette system include the number of times a ray will be traced\n",
    "deterministically (`maxiter`) and the probability that a ray that exceeds `maxiter`\n",
    "is terminated (`pkill`). The grid cloner is used to approximate an infinite canopy\n",
    "by replicating the scene in the different directions (`nx` and `ny` being the\n",
    "number of replicates in each direction along the x and y axes, respectively). It\n",
    "is also possible to turn on parallelization of the ray tracing simulation by\n",
    "setting `parallel = true` (currently this uses Julia's builtin multithreading\n",
    "capabilities).\n",
    "\n",
    "In addition `RTSettings()`, an acceleration structure and a splitting rule can\n",
    "be defined when creating the `RayTracer` object (see ray tracing documentation\n",
    "for details). The acceleration structure allows speeding up the ray tracing\n",
    "by avoiding testing all rays against all objects in the scene."
   ],
   "metadata": {}
  },
  {
   "outputs": [],
   "cell_type": "code",
   "source": [
    "function create_raytracer(scene, sources)\n",
    "    settings = RTSettings(pkill = 0.9, maxiter = 4, nx = 5, ny = 5, parallel = true)\n",
    "    RayTracer(scene, sources, settings = settings, acceleration = BVH,\n",
    "                     rule = SAH{3}(5, 10));\n",
    "end"
   ],
   "metadata": {},
   "execution_count": null
  },
  {
   "cell_type": "markdown",
   "source": [
    "The actual ray tracing simulation is performed by calling the `trace!()` method\n",
    "on the ray tracing object. This will trace all rays from all light sources and\n",
    "update the radiant power absorbed by the different surfaces in the scene inside\n",
    "the `Material` objects (see `feed!()` above):"
   ],
   "metadata": {}
  },
  {
   "outputs": [],
   "cell_type": "code",
   "source": [
    "function run_raytracer!(forest; DOY = 182)\n",
    "    scene   = create_scene(forest)\n",
    "    sources = create_sky(scene = scene, DOY = DOY)\n",
    "    rtobj   = create_raytracer(scene, sources)\n",
    "    trace!(rtobj)\n",
    "    return nothing\n",
    "end"
   ],
   "metadata": {},
   "execution_count": null
  },
  {
   "cell_type": "markdown",
   "source": [
    "The total PAR absorbed for each tree is calculated from the material objects of\n",
    "the different internodes (using `power()` on the `Material` object). Note that\n",
    "the `power()` function returns three different values, one for each waveband,\n",
    "but they are added together as RUE is defined for total PAR.\n",
    "\n",
    "Run the ray tracer, calculate PAR absorbed per tree and add it to the daily\n",
    "total using general weighted quadrature formula"
   ],
   "metadata": {}
  },
  {
   "outputs": [],
   "cell_type": "code",
   "source": [
    "function calculate_PAR!(forest;  DOY = 182)\n",
    "    # Reset PAR absorbed by the tree (at the start of a new day)\n",
    "    reset_PAR!(forest)\n",
    "    # Run the ray tracer to compute daily PAR absorption\n",
    "    run_raytracer!(forest, DOY = DOY)\n",
    "    # Add up PAR absorbed by each leaf within each tree\n",
    "    @threads for tree in forest\n",
    "        for l in get_leaves(tree)\n",
    "            data(tree).PAR += power(l.material)[1]\n",
    "        end\n",
    "    end\n",
    "    return nothing\n",
    "end"
   ],
   "metadata": {},
   "execution_count": null
  },
  {
   "cell_type": "markdown",
   "source": [
    "Reset PAR absorbed by the tree (at the start of a new day)"
   ],
   "metadata": {}
  },
  {
   "outputs": [],
   "cell_type": "code",
   "source": [
    "function reset_PAR!(forest)\n",
    "    for tree in forest\n",
    "        data(tree).PAR = 0.0\n",
    "    end\n",
    "    return nothing\n",
    "end"
   ],
   "metadata": {},
   "execution_count": null
  },
  {
   "cell_type": "markdown",
   "source": [
    "### Growth\n",
    "\n",
    "We need some functions to compute the length and width of a leaf or internode\n",
    "from its biomass"
   ],
   "metadata": {}
  },
  {
   "outputs": [],
   "cell_type": "code",
   "source": [
    "function leaf_dims(biomass, vars)\n",
    "    leaf_biomass = biomass\n",
    "    leaf_area    = biomass/vars.SLW\n",
    "    leaf_length  = sqrt(leaf_area*4*vars.LS/pi)\n",
    "    leaf_width   = leaf_length/vars.LS\n",
    "    return leaf_length, leaf_width\n",
    "end\n",
    "\n",
    "function int_dims(biomass, vars)\n",
    "    int_biomass = biomass\n",
    "    int_volume  = biomass/vars.SIW\n",
    "    int_length  = cbrt(int_volume*4*vars.IS^2/pi)\n",
    "    int_width   = int_length/vars.IS\n",
    "    return int_length, int_width\n",
    "end"
   ],
   "metadata": {},
   "execution_count": null
  },
  {
   "cell_type": "markdown",
   "source": [
    "Each day, the total biomass of the tree is updated using a simple RUE formula\n",
    "and the increment of biomass is distributed across the organs proportionally to\n",
    "their relative sink strength (of leaves or internodes).\n",
    "\n",
    "The sink strength of leaves is modelled with a beta distribution scaled to the\n",
    "`leaf_expansion` argument that determines the duration of leaf growth, whereas\n",
    "for the internodes it follows a negative exponential distribution. The `pdf`\n",
    "function computes the probability density of each distribution which is taken as\n",
    "proportional to the sink strength (the model is actually source-limited since we\n",
    "imposed a particular growth rate)."
   ],
   "metadata": {}
  },
  {
   "outputs": [],
   "cell_type": "code",
   "source": [
    "sink_strength(leaf, vars) = leaf.age > vars.leaf_expansion ? 0.0 :\n",
    "                            pdf(leaf.sink, leaf.age/vars.leaf_expansion)/100.0\n",
    "plot(0:1:50, x -> sink_strength(TreeTypes.Leaf(age = x), TreeTypes.treeparams()),\n",
    "     xlabel = \"Age\", ylabel = \"Sink strength\", label = \"Leaf\")\n",
    "\n",
    "sink_strength(int) = pdf(int.sink, int.age)\n",
    "plot!(0:1:50, x -> sink_strength(TreeTypes.Internode(age = x)), label = \"Internode\")"
   ],
   "metadata": {},
   "execution_count": null
  },
  {
   "cell_type": "markdown",
   "source": [
    "Now we need a function that updates the biomass of the tree, allocates it to the\n",
    "different organs and updates the dimensions of said organs. For simplicity,\n",
    "we create the functions `leaves()` and `internodes()` that will apply the queries\n",
    "to the tree required to extract said nodes:"
   ],
   "metadata": {}
  },
  {
   "outputs": [],
   "cell_type": "code",
   "source": [
    "get_leaves(tree) = apply(tree, Query(TreeTypes.Leaf))\n",
    "get_internodes(tree) = apply(tree, Query(TreeTypes.Internode))"
   ],
   "metadata": {},
   "execution_count": null
  },
  {
   "cell_type": "markdown",
   "source": [
    "The age of the different organs is updated every time step:"
   ],
   "metadata": {}
  },
  {
   "outputs": [],
   "cell_type": "code",
   "source": [
    "function age!(all_leaves, all_internodes, all_meristems)\n",
    "    for leaf in all_leaves\n",
    "        leaf.age += 1\n",
    "    end\n",
    "    for int in all_internodes\n",
    "        int.age += 1\n",
    "    end\n",
    "    for mer in all_meristems\n",
    "        mer.age += 1\n",
    "    end\n",
    "    return nothing\n",
    "end"
   ],
   "metadata": {},
   "execution_count": null
  },
  {
   "cell_type": "markdown",
   "source": [
    "The daily growth is allocated to different organs proportional to their sink\n",
    "strength."
   ],
   "metadata": {}
  },
  {
   "outputs": [],
   "cell_type": "code",
   "source": [
    "function grow!(tree, all_leaves, all_internodes)\n",
    "    # Compute total biomass increment\n",
    "    tdata = data(tree)\n",
    "    ΔB    = max(0.5, tdata.RUE*tdata.PAR/1e6) # Trick to emulate reserves in seedling\n",
    "    tdata.biomass += ΔB\n",
    "    # Total sink strength\n",
    "    total_sink = 0.0\n",
    "    for leaf in all_leaves\n",
    "        total_sink += sink_strength(leaf, tdata)\n",
    "    end\n",
    "    for int in all_internodes\n",
    "        total_sink += sink_strength(int)\n",
    "    end\n",
    "    # Allocate biomass to leaves and internodes\n",
    "    for leaf in all_leaves\n",
    "        leaf.biomass += ΔB*sink_strength(leaf, tdata)/total_sink\n",
    "    end\n",
    "    for int in all_internodes\n",
    "        int.biomass += ΔB*sink_strength(int)/total_sink\n",
    "    end\n",
    "    return nothing\n",
    "end"
   ],
   "metadata": {},
   "execution_count": null
  },
  {
   "cell_type": "markdown",
   "source": [
    "Finally, we need to update the dimensions of the organs. The leaf dimensions are"
   ],
   "metadata": {}
  },
  {
   "outputs": [],
   "cell_type": "code",
   "source": [
    "function size_leaves!(all_leaves, tvars)\n",
    "    for leaf in all_leaves\n",
    "        leaf.length, leaf.width = leaf_dims(leaf.biomass, tvars)\n",
    "    end\n",
    "    return nothing\n",
    "end\n",
    "function size_internodes!(all_internodes, tvars)\n",
    "    for int in all_internodes\n",
    "        int.length, int.width = int_dims(int.biomass, tvars)\n",
    "    end\n",
    "    return nothing\n",
    "end"
   ],
   "metadata": {},
   "execution_count": null
  },
  {
   "cell_type": "markdown",
   "source": [
    "### Daily step\n",
    "\n",
    "All the growth and developmental functions are combined together into a daily\n",
    "step function that updates the forest by iterating over the different trees in\n",
    "parallel."
   ],
   "metadata": {}
  },
  {
   "outputs": [],
   "cell_type": "code",
   "source": [
    "get_meristems(tree) = apply(tree, Query(TreeTypes.Meristem))\n",
    "function daily_step!(forest, DOY)\n",
    "    # Compute PAR absorbed by each tree\n",
    "    calculate_PAR!(forest, DOY = DOY)\n",
    "    # Grow the trees\n",
    "    @threads for tree in forest\n",
    "        # Retrieve all the relevant organs\n",
    "        all_leaves = get_leaves(tree)\n",
    "        all_internodes = get_internodes(tree)\n",
    "        all_meristems = get_meristems(tree)\n",
    "        # Update the age of the organs\n",
    "        age!(all_leaves, all_internodes, all_meristems)\n",
    "        # Grow the tree\n",
    "        grow!(tree, all_leaves, all_internodes)\n",
    "        tdata = data(tree)\n",
    "        size_leaves!(all_leaves, tdata)\n",
    "        size_internodes!(all_internodes, tdata)\n",
    "        # Developmental rules\n",
    "        rewrite!(tree)\n",
    "    end\n",
    "end"
   ],
   "metadata": {},
   "execution_count": null
  },
  {
   "cell_type": "markdown",
   "source": [
    "### Initialization\n",
    "\n",
    "The trees are initialized on a regular grid with random values for the initial\n",
    "orientation and RUE:"
   ],
   "metadata": {}
  },
  {
   "outputs": [],
   "cell_type": "code",
   "source": [
    "RUEs = rand(Normal(1.5,0.2), 10, 10)\n",
    "histogram(vec(RUEs))\n",
    "\n",
    "orientations = [rand()*360.0 for i = 1:2.0:20.0, j = 1:2.0:20.0]\n",
    "histogram(vec(orientations))\n",
    "\n",
    "origins = [Vec(i,j,0) for i = 1:2.0:20.0, j = 1:2.0:20.0];"
   ],
   "metadata": {},
   "execution_count": null
  },
  {
   "cell_type": "markdown",
   "source": [
    "The following initalizes a tree based on the origin, orientation and RUE:"
   ],
   "metadata": {}
  },
  {
   "outputs": [],
   "cell_type": "code",
   "source": [
    "function create_tree(origin, orientation, RUE)\n",
    "    # Initial state and parameters of the tree\n",
    "    data = TreeTypes.treeparams(RUE = RUE)\n",
    "    # Initial states of the leaves\n",
    "    leaf_length, leaf_width = leaf_dims(data.LB0, data)\n",
    "    vleaf = (biomass = data.LB0, length = leaf_length, width = leaf_width)\n",
    "    # Initial states of the internodes\n",
    "    int_length, int_width = int_dims(data.LB0, data)\n",
    "    vint = (biomass = data.IB0, length = int_length, width = int_width)\n",
    "    # Growth rules\n",
    "    meristem_rule = create_meristem_rule(vleaf, vint)\n",
    "    branch_rule   = create_branch_rule(vint)\n",
    "    axiom = T(origin) + RH(orientation) +\n",
    "            TreeTypes.Internode(biomass = vint.biomass,\n",
    "                                length  = vint.length,\n",
    "                                width   = vint.width) +\n",
    "            TreeTypes.Meristem()\n",
    "    tree = Graph(axiom = axiom, rules = (meristem_rule, branch_rule),\n",
    "                 data = data)\n",
    "    return tree\n",
    "end"
   ],
   "metadata": {},
   "execution_count": null
  },
  {
   "cell_type": "markdown",
   "source": [
    "## Visualization\n",
    "\n",
    "As in the previous example, it makes sense to visualize the forest with a soil\n",
    "tile beneath it. Unlike in the previous example, we will construct the soil tile\n",
    "using a dedicated graph and generate a `Scene` object which can later be\n",
    "merged with the rest of scene generated in daily step:"
   ],
   "metadata": {}
  },
  {
   "outputs": [],
   "cell_type": "code",
   "source": [
    "Base.@kwdef struct Soil <: VirtualPlantLab.Node\n",
    "    length::Float64\n",
    "    width::Float64\n",
    "end\n",
    "function VirtualPlantLab.feed!(turtle::Turtle, s::Soil, data)\n",
    "    Rectangle!(turtle, length = s.length, width = s.width, color = RGB(255/255, 236/255, 179/255))\n",
    "end\n",
    "soil_graph = RA(-90.0) + T(Vec(0.0, 10.0, 0.0)) + ## Moves into position\n",
    "             Soil(length = 20.0, width = 20.0) ## Draws the soil tile\n",
    "soil = Scene(Graph(axiom = soil_graph));\n",
    "render(soil, axes = false)"
   ],
   "metadata": {},
   "execution_count": null
  },
  {
   "cell_type": "markdown",
   "source": [
    "And the following function renders the entire scene (notice that we need to\n",
    "use `display()` to force the rendering of the scene when called within a loop\n",
    "or a function):"
   ],
   "metadata": {}
  },
  {
   "outputs": [],
   "cell_type": "code",
   "source": [
    "function render_forest(forest, soil)\n",
    "    scene = Scene(vec(forest)) ## create scene from forest\n",
    "    scene = Scene([scene, soil]) ## merges the two scenes\n",
    "    display(render(scene))\n",
    "end"
   ],
   "metadata": {},
   "execution_count": null
  },
  {
   "cell_type": "markdown",
   "source": [
    "## Simulation\n",
    "\n",
    "We can now create a forest of trees on a regular grid:"
   ],
   "metadata": {}
  },
  {
   "outputs": [],
   "cell_type": "code",
   "source": [
    "forest = create_tree.(origins, orientations, RUEs);\n",
    "render_forest(forest, soil)\n",
    "start = 180\n",
    "for i in 1:20\n",
    "    println(\"Day $i\")\n",
    "    daily_step!(forest, i + start)\n",
    "    if mod(i, 5) == 0\n",
    "        render_forest(forest, soil)\n",
    "    end\n",
    "end"
   ],
   "metadata": {},
   "execution_count": null
  },
  {
   "cell_type": "markdown",
   "source": [
    "---\n",
    "\n",
    "*This notebook was generated using [Literate.jl](https://github.com/fredrikekre/Literate.jl).*"
   ],
   "metadata": {}
  }
 ],
 "nbformat_minor": 3,
 "metadata": {
  "language_info": {
   "file_extension": ".jl",
   "mimetype": "application/julia",
   "name": "julia",
   "version": "1.9.3"
  },
  "kernelspec": {
   "name": "julia-1.9",
   "display_name": "Julia 1.9.3",
   "language": "julia"
  }
 },
 "nbformat": 4
}
