{
 "cells": [
  {
   "cell_type": "markdown",
   "source": [
    "# The Koch snowflake\n",
    "\n",
    "Alejandro Morales & Ana Ernst\n",
    "\n",
    "Centre for Crop Systems Analysis - Wageningen University\n",
    "\n",
    "> ### TL;DR\n",
    "> - Define parameter for graph nodes\n",
    "> - Define methods for VirtualPlantLab.feed! functions\n",
    "> - Create [Scenes](https://virtualplantlab.com/dev/manual/Geometry/Turtle/#Scenes)\n",
    "> - [Visualization](https://virtualplantlab.com/dev/manual/Visualization/) of 'Graph' with render()\n",
    ">\n",
    "\n",
    "In this example, we create a Koch snowflake, which is one of the earliest\n",
    "fractals to be described. The Koch snowflake is a closed curve composed on\n",
    "multiple of segments of different lengths. Starting with an equilateral\n",
    "triangle, each segment in the snowflake is replaced by four segments of smaller\n",
    "length arrange in a specific manner. Graphically, the first four iterations of\n",
    "the Koch snowflake construction process result in the following figures (the\n",
    "green segments are shown as guides but they are not part of the snowflake):\n",
    "\n",
    "![First four iterations fo Koch snowflake fractal](https://upload.wikimedia.org/wikipedia/commons/8/8e/KochFlake.png)\n",
    "\n",
    "In order to implement the construction process of a Koch snowflake in VPL we\n",
    "need to understand how a 3D structure can be generated from a graph of nodes.\n",
    "VPL uses a procedural approach to generate of structure based on the concept of\n",
    "turtle graphics.\n",
    "\n",
    "The idea behind this approach is to imagine a turtle located in space with a\n",
    "particular position and orientation. The turtle then starts consuming the\n",
    "different nodes in the graph (following its topological structure) and generates\n",
    "3D structures as defined by the user for each type of node. The consumption of a\n",
    "node may also include instructions to move and/or rotate the turtle, which\n",
    "allows to alter the relative position of the different 3D structures described\n",
    "by a graph.\n",
    "\n",
    "The construction process of the Koch snowflake in VPL could then be represented\n",
    "by the following axiom and rewriting rule:\n",
    "\n",
    "axiom: E(L) + RU(120) + E(L) + RU(120) + E(L)\n",
    "rule:  E(L) → E(L/3) + RU(-60) + E(L/3) + RU(120) + E(L/3) + RU(-60) + E(L/3)\n",
    "\n",
    "Where E represent and edge of a given length (given in parenthesis) and RU\n",
    "represents a rotation of the turtle around the upward axis, with angle of\n",
    "rotation given in parenthesis in hexadecimal degrees. The rule can be visualized\n",
    "as follows:\n",
    "\n",
    "![Koch construction rule](https://python-with-science.readthedocs.io/en/latest/_images/koch_order_1.png)\n",
    "\n",
    "Note that VPL already provides several classes for common turtle movements and\n",
    "rotations, so our implementation of the Koch snowflake only needs to define a\n",
    "class to implement the edges of the snowflake. This can be achieved as follows:"
   ],
   "metadata": {}
  },
  {
   "outputs": [],
   "cell_type": "code",
   "source": [
    "using VirtualPlantLab\n",
    "import GLMakie # Import rather than \"using\" to avoid masking Scene\n",
    "using ColorTypes # To define colors for the rendering\n",
    "module sn\n",
    "    import VirtualPlantLab\n",
    "    struct E <: VirtualPlantLab.Node\n",
    "        length::Float64\n",
    "    end\n",
    "end\n",
    "import .sn"
   ],
   "metadata": {},
   "execution_count": null
  },
  {
   "cell_type": "markdown",
   "source": [
    "Note that nodes of type E need to keep track of the length as illustrated in the\n",
    "above. The axiom is straightforward:"
   ],
   "metadata": {}
  },
  {
   "outputs": [],
   "cell_type": "code",
   "source": [
    "const L = 1.0\n",
    "axiom = sn.E(L) + VirtualPlantLab.RU(120.0) + sn.E(L) + VirtualPlantLab.RU(120.0) + sn.E(L)"
   ],
   "metadata": {},
   "execution_count": null
  },
  {
   "cell_type": "markdown",
   "source": [
    "The rule is also straightforward to implement as all the nodes of type E will be\n",
    "replaced in each iteration. However, we need to ensure that the length of the\n",
    "new edges is a calculated from the length of the edge being replaced. In order\n",
    "to extract the data stored in the node being replaced we can simply use the\n",
    "function data. In this case, the replacement function is defined and then added\n",
    "to the rule. This can make the code more readable but helps debugging and\n",
    "testing the replacement function."
   ],
   "metadata": {}
  },
  {
   "outputs": [],
   "cell_type": "code",
   "source": [
    "function Kochsnowflake(x)\n",
    "    L = data(x).length\n",
    "    sn.E(L/3) + RU(-60.0) + sn.E(L/3) + RU(120.0) + sn.E(L/3) + RU(-60.0) + sn.E(L/3)\n",
    "end\n",
    "rule = Rule(sn.E, rhs = Kochsnowflake)"
   ],
   "metadata": {},
   "execution_count": null
  },
  {
   "cell_type": "markdown",
   "source": [
    "The model is then created by constructing the graph"
   ],
   "metadata": {}
  },
  {
   "outputs": [],
   "cell_type": "code",
   "source": [
    "Koch = Graph(axiom = axiom, rules = Tuple(rule))"
   ],
   "metadata": {},
   "execution_count": null
  },
  {
   "cell_type": "markdown",
   "source": [
    "In order to be able to generate a 3D structure we need to define a method for\n",
    "the function `VirtualPlantLab.feed!` (notice the need to prefix it with `VirtualPlantLab.` as we are\n",
    "going to define a method for this function). The method needs to two take two\n",
    "arguments, the first one is always an object of type Turtle and the second is an\n",
    "object of the type for which the method is defined (in this case, E).\n",
    "\n",
    "The body of the method should generate the 3D structures using the geometry\n",
    "primitives provided by VPL and feed them to the turtle that is being passed to\n",
    "the method as first argument. In this case, we are going to represent the edges\n",
    "of the Koch snowflakes with cylinders, which can be generated with the\n",
    "`HollowCylinder!` function from VirtualPlantLab. Note that the `feed!` should return\n",
    "`nothing`, the turtle will be modified in place (hence the use of `!` at the end\n",
    "of the function as customary in the VPL community).\n",
    "\n",
    "In order to render the geometry, we need assign a `color` (i.e., any type of\n",
    "color support by the package ColorTypes.jl). In this case, we just feed a basic\n",
    "`RGB` color defined by the proportion of red, green and blue. To make the\n",
    "figures more appealing, we can assign random values to each channel of the color\n",
    "to generate random colors."
   ],
   "metadata": {}
  },
  {
   "outputs": [],
   "cell_type": "code",
   "source": [
    "function VirtualPlantLab.feed!(turtle::Turtle, e::sn.E, vars)\n",
    "    HollowCylinder!(turtle, length = e.length, width = e.length/10,\n",
    "                    height = e.length/10, move = true,\n",
    "                    colors = RGB(rand(), rand(), rand()))\n",
    "    return nothing\n",
    "end"
   ],
   "metadata": {},
   "execution_count": null
  },
  {
   "cell_type": "markdown",
   "source": [
    "Note that the argument `move = true` indicates that the turtle should move\n",
    "forward as the cylinder is generated a distance equal to the length of the\n",
    "cylinder. Also, the `feed!` method has a third argument called `vars`. This\n",
    "gives acess to the shared variables stored within the graph (such that they can\n",
    "be accessed by any node). In this case, we are not using this argument.\n",
    "\n",
    "After defining the method, we can now call the function render on the graph to\n",
    "generate a 3D interactive image of the Koch snowflake in the current state"
   ],
   "metadata": {}
  },
  {
   "outputs": [],
   "cell_type": "code",
   "source": [
    "sc = Scene(Koch)\n",
    "render(sc, axes = false)"
   ],
   "metadata": {},
   "execution_count": null
  },
  {
   "cell_type": "markdown",
   "source": [
    "This renders the initial triangle of the construction procedure of the Koch\n",
    "snowflake. Let's execute the rules once to verify that we get the 2nd iteration\n",
    "(check the figure at the beginning of this document):"
   ],
   "metadata": {}
  },
  {
   "outputs": [],
   "cell_type": "code",
   "source": [
    "rewrite!(Koch)\n",
    "render(Scene(Koch), axes = false)"
   ],
   "metadata": {},
   "execution_count": null
  },
  {
   "cell_type": "markdown",
   "source": [
    "And two more times"
   ],
   "metadata": {}
  },
  {
   "outputs": [],
   "cell_type": "code",
   "source": [
    "for i in 1:3\n",
    "    rewrite!(Koch)\n",
    "end\n",
    "render(Scene(Koch), axes = false)"
   ],
   "metadata": {},
   "execution_count": null
  },
  {
   "cell_type": "markdown",
   "source": [
    "# Other snowflake fractals\n",
    "\n",
    "To demonstrate the power of this approach, let's create an alternative\n",
    "snowflake. We will simply invert the rotations of the turtle in the rewriting\n",
    "rule"
   ],
   "metadata": {}
  },
  {
   "outputs": [],
   "cell_type": "code",
   "source": [
    "function Kochsnowflake2(x)\n",
    "   L = data(x).length\n",
    "   sn.E(L/3) + RU(60.0) + sn.E(L/3) + RU(-120.0) + sn.E(L/3) + RU(60.0) + sn.E(L/3)\n",
    "end\n",
    "rule2 = Rule(sn.E, rhs = Kochsnowflake2)\n",
    "Koch2 = Graph(axiom = axiom, rules = Tuple(rule2))"
   ],
   "metadata": {},
   "execution_count": null
  },
  {
   "cell_type": "markdown",
   "source": [
    "The axiom is the same, but now the edges added by the rule will generate the\n",
    "edges towards the inside of the initial triangle. Let's execute the first three\n",
    "iterations and render the results\n",
    "First iteration"
   ],
   "metadata": {}
  },
  {
   "outputs": [],
   "cell_type": "code",
   "source": [
    "rewrite!(Koch2)\n",
    "render(Scene(Koch2), axes = false)"
   ],
   "metadata": {},
   "execution_count": null
  },
  {
   "cell_type": "markdown",
   "source": [
    "Second iteration"
   ],
   "metadata": {}
  },
  {
   "outputs": [],
   "cell_type": "code",
   "source": [
    "rewrite!(Koch2)\n",
    "render(Scene(Koch2), axes = false)"
   ],
   "metadata": {},
   "execution_count": null
  },
  {
   "cell_type": "markdown",
   "source": [
    "Third iteration"
   ],
   "metadata": {}
  },
  {
   "outputs": [],
   "cell_type": "code",
   "source": [
    "rewrite!(Koch2)\n",
    "render(Scene(Koch2), axes = false)"
   ],
   "metadata": {},
   "execution_count": null
  },
  {
   "cell_type": "markdown",
   "source": [
    "This is know as [Koch\n",
    "antisnowflake](https://mathworld.wolfram.com/KochAntisnowflake.html). We could\n",
    "also easily generate a [Cesàro\n",
    "fractal](https://mathworld.wolfram.com/CesaroFractal.html) by also changing the\n",
    "axiom:"
   ],
   "metadata": {}
  },
  {
   "outputs": [],
   "cell_type": "code",
   "source": [
    "axiomCesaro = sn.E(L) + RU(90.0) + sn.E(L) + RU(90.0) + sn.E(L) + RU(90.0) + sn.E(L)\n",
    "Cesaro = Graph(axiom = axiomCesaro, rules = (rule2,))\n",
    "render(Scene(Cesaro), axes = false)"
   ],
   "metadata": {},
   "execution_count": null
  },
  {
   "cell_type": "markdown",
   "source": [
    "And, as before, let's go through the first three iterations\n",
    "First iteration"
   ],
   "metadata": {}
  },
  {
   "outputs": [],
   "cell_type": "code",
   "source": [
    "rewrite!(Cesaro)\n",
    "render(Scene(Cesaro), axes = false)"
   ],
   "metadata": {},
   "execution_count": null
  },
  {
   "cell_type": "markdown",
   "source": [
    "Second iteration"
   ],
   "metadata": {}
  },
  {
   "outputs": [],
   "cell_type": "code",
   "source": [
    "rewrite!(Cesaro)\n",
    "render(Scene(Cesaro), axes = false)"
   ],
   "metadata": {},
   "execution_count": null
  },
  {
   "cell_type": "markdown",
   "source": [
    "Third iteration"
   ],
   "metadata": {}
  },
  {
   "outputs": [],
   "cell_type": "code",
   "source": [
    "rewrite!(Cesaro)\n",
    "render(Scene(Cesaro), axes = false)"
   ],
   "metadata": {},
   "execution_count": null
  },
  {
   "cell_type": "markdown",
   "source": [
    "---\n",
    "\n",
    "*This notebook was generated using [Literate.jl](https://github.com/fredrikekre/Literate.jl).*"
   ],
   "metadata": {}
  }
 ],
 "nbformat_minor": 3,
 "metadata": {
  "language_info": {
   "file_extension": ".jl",
   "mimetype": "application/julia",
   "name": "julia",
   "version": "1.10.4"
  },
  "kernelspec": {
   "name": "julia-1.10",
   "display_name": "Julia 1.10.4",
   "language": "julia"
  }
 },
 "nbformat": 4
}
