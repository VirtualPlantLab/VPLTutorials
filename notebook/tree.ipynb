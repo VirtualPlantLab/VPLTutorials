{
 "cells": [
  {
   "cell_type": "markdown",
   "source": [
    "# Tree\n",
    "\n",
    "Alejandro Morales\n",
    "\n",
    "Centre for Crop Systems Analysis - Wageningen University\n",
    "\n",
    "\n",
    "In this example we build a 3D representation of a binary TreeTypes. Although this will not look like a real plant, this example will help introduce additional features of VPL.\n",
    "\n",
    "The model requires five types of nodes:\n",
    "\n",
    "*Meristem*: These are the nodes responsible for growth of new organs in our binary TreeTypes. They contain no data or geometry (i.e. they are a point in the 3D structure).\n",
    "\n",
    "*Internode*: The result of growth of a branch, between two nodes. Internodes are represented by cylinders with a fixed width but variable length.\n",
    "\n",
    "*Node*: What is left after a meristem produces a new organ (it separates internodes). They contain no data or geometry (so also a point) but are required to keep the branching structure of the tree as well as connecting leaves.\n",
    "\n",
    "*Bud*: These are dormant meristems associated to tree nodes. When they are activated, they become an active meristem that produces a branch. They contain no data or geometry but they change the orientation of the turtle.\n",
    "\n",
    "*BudNode*: The node left by a bud after it has been activated. They contain no data or geometry but they change the orientation of the turtle.\n",
    "\n",
    "*Leaf*: These are the nodes associated to leaves in the TreeTypes. They are represented by ellipses with a particular orientation and insertion angle. The insertion angle is assumed constant, but the orientation angle varies according to an elliptical phyllotaxis rule.\n",
    "\n",
    "In this first simple model, only internodes grow over time according to a relative growth rate, whereas leaves are assumed to be of fixed sized determined at their creation. For simplicity, all active meristems will produce an phytomer (combination of node, internode, leaves and buds) per time step. Bud break is assumed stochastic, with a probability that increases proportional to the number of phytomers from the apical meristem (up to 1). In the following tutorials, these assumptions are replaced by more realistic models of light interception, photosynthesis, etc.\n",
    "\n",
    "In order to simulate growth of the 3D binary tree, we need to define a parameter describing the relative rate at which each internode elongates in each iteration of the simulation, a coefficient to compute the probability of bud break as well as the insertion and orientation angles of the leaves. We could stored these values as global constants, but VPL offers to opportunity to store them per plant. This makes it easier to manage multiple plants in the same simulation that may belong to different species, cultivars, ecotypes or simply to simulate plant-to-plant variation. Graphs in VPL can store an object of any user-defined type that will me made accessible to graph rewriting rules and queries. For this example, we define a data type `treeparams` that holds the relevant parameters. We use `Base.@kwdef` to assign default values to all parameters and allow to assign them by name."
   ],
   "metadata": {}
  },
  {
   "outputs": [],
   "cell_type": "code",
   "source": [
    "using VirtualPlantLab\n",
    "using ColorTypes\n",
    "import GLMakie\n",
    "\n",
    "module TreeTypes\n",
    "    import VirtualPlantLab\n",
    "    # Meristem\n",
    "    struct Meristem <: VirtualPlantLab.Node end\n",
    "    # Bud\n",
    "    struct Bud <: VirtualPlantLab.Node end\n",
    "    # Node\n",
    "    struct Node <: VirtualPlantLab.Node end\n",
    "    # BudNode\n",
    "    struct BudNode <: VirtualPlantLab.Node end\n",
    "    # Internode (needs to be mutable to allow for changes over time)\n",
    "    Base.@kwdef mutable struct Internode <: VirtualPlantLab.Node\n",
    "        length::Float64 = 0.10 ## Internodes start at 10 cm\n",
    "    end\n",
    "    # Leaf\n",
    "    Base.@kwdef struct Leaf <: VirtualPlantLab.Node\n",
    "        length::Float64 = 0.20 ## Leaves are 20 cm long\n",
    "        width::Float64  = 0.1 ## Leaves are 10 cm wide\n",
    "    end\n",
    "    # Graph-level variables\n",
    "    Base.@kwdef struct treeparams\n",
    "        growth::Float64 = 0.1\n",
    "        budbreak::Float64 = 0.25\n",
    "        phyllotaxis::Float64 = 140.0\n",
    "        leaf_angle::Float64 = 30.0\n",
    "        branch_angle::Float64 = 45.0\n",
    "    end\n",
    "end"
   ],
   "metadata": {},
   "execution_count": null
  },
  {
   "cell_type": "markdown",
   "source": [
    "As always, the 3D structure and the color of each type of node are implemented with the `feed!` method. In this case, the internodes and leaves have a 3D representation, whereas bud nodes rotate the turtle. The rest of the elements of the trees are just points in the 3D structure, and hence do not have an explicit geometry:"
   ],
   "metadata": {}
  },
  {
   "outputs": [],
   "cell_type": "code",
   "source": [
    "# Create geometry + color for the internodes\n",
    "function VirtualPlantLab.feed!(turtle::Turtle, i::TreeTypes.Internode, vars)\n",
    "    # Rotate turtle around the head to implement elliptical phyllotaxis\n",
    "    rh!(turtle, vars.phyllotaxis)\n",
    "    HollowCylinder!(turtle, length = i.length, height = i.length/15, width = i.length/15,\n",
    "                move = true, color = RGB(0.5,0.4,0.0))\n",
    "    return nothing\n",
    "end\n",
    "\n",
    "# Create geometry + color for the leaves\n",
    "function VirtualPlantLab.feed!(turtle::Turtle, l::TreeTypes.Leaf, vars)\n",
    "    # Rotate turtle around the arm for insertion angle\n",
    "    ra!(turtle, -vars.leaf_angle)\n",
    "    # Generate the leaf\n",
    "    Ellipse!(turtle, length = l.length, width = l.width, move = false,\n",
    "             color = RGB(0.2,0.6,0.2))\n",
    "    # Rotate turtle back to original direction\n",
    "    ra!(turtle, vars.leaf_angle)\n",
    "    return nothing\n",
    "end\n",
    "\n",
    "# Insertion angle for the bud nodes\n",
    "function VirtualPlantLab.feed!(turtle::Turtle, b::TreeTypes.BudNode, vars)\n",
    "    # Rotate turtle around the arm for insertion angle\n",
    "    ra!(turtle, -vars.branch_angle)\n",
    "end"
   ],
   "metadata": {},
   "execution_count": null
  },
  {
   "cell_type": "markdown",
   "source": [
    "The growth rule for a branch within a tree is simple: a phytomer (or basic unit of morphology) is composed of a node, a leaf, a bud node, an internode and an active meristem at the end. Each time step, the meristem is replaced by a new phytomer, allowing for developmemnt within a branch."
   ],
   "metadata": {}
  },
  {
   "outputs": [],
   "cell_type": "code",
   "source": [
    "meristem_rule = Rule(TreeTypes.Meristem, rhs = mer -> TreeTypes.Node() +\n",
    "                                              (TreeTypes.Bud(), TreeTypes.Leaf()) +\n",
    "                                         TreeTypes.Internode() + TreeTypes.Meristem())"
   ],
   "metadata": {},
   "execution_count": null
  },
  {
   "cell_type": "markdown",
   "source": [
    "In addition, every step of the simulation, each bud may break, creating a new branch. The probability of bud break is proportional to the number of phytomers from the apical meristem (up to 1), which requires a relational rule to count the number of internodes in the graph up to reaching a meristem. When a bud breaks, it is replaced by a bud node, an internode and a new meristem. This new meristem becomes the apical meristem of the new branch, such that `meristem_rule` would apply. Note how we create an external function to compute whether a bud breaks or not. This is useful to keep the `branch_rule` rule simple and readable, while allow for a relatively complex bud break model. It also makes it easier to debug the bud break model, since it can be tested independently of the graph rewriting."
   ],
   "metadata": {}
  },
  {
   "outputs": [],
   "cell_type": "code",
   "source": [
    "function prob_break(bud)\n",
    "    # We move to parent node in the branch where the bud was created\n",
    "    node =  parent(bud)\n",
    "    # We count the number of internodes between node and the first Meristem\n",
    "    # moving down the graph\n",
    "    check, steps = has_descendant(node, condition = n -> data(n) isa TreeTypes.Meristem)\n",
    "    steps = Int(ceil(steps/2)) ## Because it will count both the nodes and the internodes\n",
    "    # Compute probability of bud break and determine whether it happens\n",
    "    if check\n",
    "        prob =  min(1.0, steps*graph_data(bud).budbreak)\n",
    "        return rand() < prob\n",
    "    # If there is no meristem, an error happened since the model does not allow\n",
    "    # for this\n",
    "    else\n",
    "        error(\"No meristem found in branch\")\n",
    "    end\n",
    "end\n",
    "branch_rule = Rule(TreeTypes.Bud,\n",
    "            lhs = prob_break,\n",
    "            rhs = bud -> TreeTypes.BudNode() + TreeTypes.Internode() + TreeTypes.Meristem())"
   ],
   "metadata": {},
   "execution_count": null
  },
  {
   "cell_type": "markdown",
   "source": [
    "A binary tree initializes as an internode followed by a meristem, so the axiom can be constructed simply as:"
   ],
   "metadata": {}
  },
  {
   "outputs": [],
   "cell_type": "code",
   "source": [
    "axiom = TreeTypes.Internode() + TreeTypes.Meristem()"
   ],
   "metadata": {},
   "execution_count": null
  },
  {
   "cell_type": "markdown",
   "source": [
    "And the object for the tree can be constructed as in previous examples, by passing the axiom and the graph rewriting rules, but in this case also with the object with growth-related parameters."
   ],
   "metadata": {}
  },
  {
   "outputs": [],
   "cell_type": "code",
   "source": [
    "tree = Graph(axiom = axiom, rules = (meristem_rule, branch_rule), data = TreeTypes.treeparams())"
   ],
   "metadata": {},
   "execution_count": null
  },
  {
   "cell_type": "markdown",
   "source": [
    "Note that so far we have not included any code to simulate growth of the internodes. The reason is that, as elongation of internotes does not change the topology of the graph (it simply changes the data stored in certain nodes), this process does not need to be implemented with graph rewriting rules. Instead, we will use a combination of a query (to identify which nodes need to be altered) and direct modification of these nodes:"
   ],
   "metadata": {}
  },
  {
   "outputs": [],
   "cell_type": "code",
   "source": [
    "getInternode = Query(TreeTypes.Internode)"
   ],
   "metadata": {},
   "execution_count": null
  },
  {
   "cell_type": "markdown",
   "source": [
    "If we apply the query to a graph using the `apply` function, we will get an array of all the nodes that match the query, allow for direct manipulation of their contents. To help organize the code, we will create a function that simulates growth by multiplying the `length` argument of all internodes in a tree by the `growth` parameter defined in the above:"
   ],
   "metadata": {}
  },
  {
   "outputs": [],
   "cell_type": "code",
   "source": [
    "function elongate!(tree, query)\n",
    "    for x in apply(tree, query)\n",
    "        x.length = x.length*(1.0 + data(tree).growth)\n",
    "    end\n",
    "end"
   ],
   "metadata": {},
   "execution_count": null
  },
  {
   "cell_type": "markdown",
   "source": [
    "Note that we use `vars` on the `Graph` object to extract the object that was stored inside of it. Also, as this function will modify the graph which is passed as input, we append an `!` to the name (this not a special syntax of the language, its just a convention in the Julia community). Also, in this case, the query object is kept separate from the graph. We could have also stored it inside the graph like we did for the parameter `growth`. We could also have packaged the graph and the query into another type representing an individual TreeTypes. This is entirely up to the user and indicates that a model can be implemented in many differences ways with VPL.\n",
    "\n",
    "Simulating the growth a tree is a matter of elongating the internodes and applying the rules to create new internodes:"
   ],
   "metadata": {}
  },
  {
   "outputs": [],
   "cell_type": "code",
   "source": [
    "function growth!(tree, query)\n",
    "    elongate!(tree, query)\n",
    "    rewrite!(tree)\n",
    "end"
   ],
   "metadata": {},
   "execution_count": null
  },
  {
   "cell_type": "markdown",
   "source": [
    "and a simulation for n steps is achieved with a simple loop:"
   ],
   "metadata": {}
  },
  {
   "outputs": [],
   "cell_type": "code",
   "source": [
    "function simulate(tree, query, nsteps)\n",
    "    new_tree = deepcopy(tree)\n",
    "    for i in 1:nsteps\n",
    "        growth!(new_tree, query)\n",
    "    end\n",
    "    return new_tree\n",
    "end"
   ],
   "metadata": {},
   "execution_count": null
  },
  {
   "cell_type": "markdown",
   "source": [
    "Notice that the `simulate` function creates a copy of the object to avoid overwriting it. If we run the simulation for a couple of steps"
   ],
   "metadata": {}
  },
  {
   "outputs": [],
   "cell_type": "code",
   "source": [
    "newtree = simulate(tree, getInternode, 2)"
   ],
   "metadata": {},
   "execution_count": null
  },
  {
   "cell_type": "markdown",
   "source": [
    "The binary tree after two iterations has two branches, as expected:"
   ],
   "metadata": {}
  },
  {
   "outputs": [],
   "cell_type": "code",
   "source": [
    "render(Scene(newtree))"
   ],
   "metadata": {},
   "execution_count": null
  },
  {
   "cell_type": "markdown",
   "source": [
    "Notice how the lengths of the prisms representing internodes decreases as the branching order increases, as the internodes are younger (i.e. were generated fewer generations ago). Further steps will generate a structure that is more tree-like."
   ],
   "metadata": {}
  },
  {
   "outputs": [],
   "cell_type": "code",
   "source": [
    "newtree = simulate(newtree, getInternode, 15)\n",
    "render(Scene(newtree))"
   ],
   "metadata": {},
   "execution_count": null
  },
  {
   "cell_type": "markdown",
   "source": [
    "---\n",
    "\n",
    "*This notebook was generated using [Literate.jl](https://github.com/fredrikekre/Literate.jl).*"
   ],
   "metadata": {}
  }
 ],
 "nbformat_minor": 3,
 "metadata": {
  "language_info": {
   "file_extension": ".jl",
   "mimetype": "application/julia",
   "name": "julia",
   "version": "1.9.3"
  },
  "kernelspec": {
   "name": "julia-1.9",
   "display_name": "Julia 1.9.3",
   "language": "julia"
  }
 },
 "nbformat": 4
}
